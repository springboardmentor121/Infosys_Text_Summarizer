{
 "cells": [
  {
   "cell_type": "code",
   "execution_count": 1,
   "id": "42089171-22f5-48c7-93c3-3f4f867986d1",
   "metadata": {},
   "outputs": [],
   "source": [
    "import pandas as pd"
   ]
  },
  {
   "cell_type": "markdown",
   "id": "5d0dc1b0-f0d9-42cc-ab9b-e14fff13025b",
   "metadata": {},
   "source": [
    "*Loading the Training Text data*"
   ]
  },
  {
   "cell_type": "code",
   "execution_count": 2,
   "id": "929a2103-3f0e-4ced-b25b-04ef239d7e50",
   "metadata": {},
   "outputs": [],
   "source": [
    "train_data = pd.read_csv('cnn_dailymail/train.csv')"
   ]
  },
  {
   "cell_type": "code",
   "execution_count": 3,
   "id": "54c23257-bc16-4e7d-9ba7-8a83c11a66ea",
   "metadata": {},
   "outputs": [
    {
     "data": {
      "text/html": [
       "<div>\n",
       "<style scoped>\n",
       "    .dataframe tbody tr th:only-of-type {\n",
       "        vertical-align: middle;\n",
       "    }\n",
       "\n",
       "    .dataframe tbody tr th {\n",
       "        vertical-align: top;\n",
       "    }\n",
       "\n",
       "    .dataframe thead th {\n",
       "        text-align: right;\n",
       "    }\n",
       "</style>\n",
       "<table border=\"1\" class=\"dataframe\">\n",
       "  <thead>\n",
       "    <tr style=\"text-align: right;\">\n",
       "      <th></th>\n",
       "      <th>id</th>\n",
       "      <th>article</th>\n",
       "      <th>highlights</th>\n",
       "    </tr>\n",
       "  </thead>\n",
       "  <tbody>\n",
       "    <tr>\n",
       "      <th>0</th>\n",
       "      <td>0001d1afc246a7964130f43ae940af6bc6c57f01</td>\n",
       "      <td>By . Associated Press . PUBLISHED: . 14:11 EST...</td>\n",
       "      <td>Bishop John Folda, of North Dakota, is taking ...</td>\n",
       "    </tr>\n",
       "    <tr>\n",
       "      <th>1</th>\n",
       "      <td>0002095e55fcbd3a2f366d9bf92a95433dc305ef</td>\n",
       "      <td>(CNN) -- Ralph Mata was an internal affairs li...</td>\n",
       "      <td>Criminal complaint: Cop used his role to help ...</td>\n",
       "    </tr>\n",
       "    <tr>\n",
       "      <th>2</th>\n",
       "      <td>00027e965c8264c35cc1bc55556db388da82b07f</td>\n",
       "      <td>A drunk driver who killed a young woman in a h...</td>\n",
       "      <td>Craig Eccleston-Todd, 27, had drunk at least t...</td>\n",
       "    </tr>\n",
       "    <tr>\n",
       "      <th>3</th>\n",
       "      <td>0002c17436637c4fe1837c935c04de47adb18e9a</td>\n",
       "      <td>(CNN) -- With a breezy sweep of his pen Presid...</td>\n",
       "      <td>Nina dos Santos says Europe must be ready to a...</td>\n",
       "    </tr>\n",
       "    <tr>\n",
       "      <th>4</th>\n",
       "      <td>0003ad6ef0c37534f80b55b4235108024b407f0b</td>\n",
       "      <td>Fleetwood are the only team still to have a 10...</td>\n",
       "      <td>Fleetwood top of League One after 2-0 win at S...</td>\n",
       "    </tr>\n",
       "  </tbody>\n",
       "</table>\n",
       "</div>"
      ],
      "text/plain": [
       "                                         id  \\\n",
       "0  0001d1afc246a7964130f43ae940af6bc6c57f01   \n",
       "1  0002095e55fcbd3a2f366d9bf92a95433dc305ef   \n",
       "2  00027e965c8264c35cc1bc55556db388da82b07f   \n",
       "3  0002c17436637c4fe1837c935c04de47adb18e9a   \n",
       "4  0003ad6ef0c37534f80b55b4235108024b407f0b   \n",
       "\n",
       "                                             article  \\\n",
       "0  By . Associated Press . PUBLISHED: . 14:11 EST...   \n",
       "1  (CNN) -- Ralph Mata was an internal affairs li...   \n",
       "2  A drunk driver who killed a young woman in a h...   \n",
       "3  (CNN) -- With a breezy sweep of his pen Presid...   \n",
       "4  Fleetwood are the only team still to have a 10...   \n",
       "\n",
       "                                          highlights  \n",
       "0  Bishop John Folda, of North Dakota, is taking ...  \n",
       "1  Criminal complaint: Cop used his role to help ...  \n",
       "2  Craig Eccleston-Todd, 27, had drunk at least t...  \n",
       "3  Nina dos Santos says Europe must be ready to a...  \n",
       "4  Fleetwood top of League One after 2-0 win at S...  "
      ]
     },
     "execution_count": 3,
     "metadata": {},
     "output_type": "execute_result"
    }
   ],
   "source": [
    "train_data.head()"
   ]
  },
  {
   "cell_type": "markdown",
   "id": "9056c67c-9333-4d60-871f-d22bf9ede25d",
   "metadata": {},
   "source": [
    "*Loading the Test data*"
   ]
  },
  {
   "cell_type": "code",
   "execution_count": 4,
   "id": "c6b402ef-73d7-4950-9bb9-d321a68ede70",
   "metadata": {},
   "outputs": [],
   "source": [
    "test_data = pd.read_csv('cnn_dailymail/test.csv')"
   ]
  },
  {
   "cell_type": "code",
   "execution_count": 5,
   "id": "7b167113-2b58-49c7-b134-28edccdec7a4",
   "metadata": {},
   "outputs": [
    {
     "data": {
      "text/html": [
       "<div>\n",
       "<style scoped>\n",
       "    .dataframe tbody tr th:only-of-type {\n",
       "        vertical-align: middle;\n",
       "    }\n",
       "\n",
       "    .dataframe tbody tr th {\n",
       "        vertical-align: top;\n",
       "    }\n",
       "\n",
       "    .dataframe thead th {\n",
       "        text-align: right;\n",
       "    }\n",
       "</style>\n",
       "<table border=\"1\" class=\"dataframe\">\n",
       "  <thead>\n",
       "    <tr style=\"text-align: right;\">\n",
       "      <th></th>\n",
       "      <th>id</th>\n",
       "      <th>article</th>\n",
       "      <th>highlights</th>\n",
       "    </tr>\n",
       "  </thead>\n",
       "  <tbody>\n",
       "    <tr>\n",
       "      <th>0</th>\n",
       "      <td>92c514c913c0bdfe25341af9fd72b29db544099b</td>\n",
       "      <td>Ever noticed how plane seats appear to be gett...</td>\n",
       "      <td>Experts question if  packed out planes are put...</td>\n",
       "    </tr>\n",
       "    <tr>\n",
       "      <th>1</th>\n",
       "      <td>2003841c7dc0e7c5b1a248f9cd536d727f27a45a</td>\n",
       "      <td>A drunk teenage boy had to be rescued by secur...</td>\n",
       "      <td>Drunk teenage boy climbed into lion enclosure ...</td>\n",
       "    </tr>\n",
       "    <tr>\n",
       "      <th>2</th>\n",
       "      <td>91b7d2311527f5c2b63a65ca98d21d9c92485149</td>\n",
       "      <td>Dougie Freedman is on the verge of agreeing a ...</td>\n",
       "      <td>Nottingham Forest are close to extending Dougi...</td>\n",
       "    </tr>\n",
       "    <tr>\n",
       "      <th>3</th>\n",
       "      <td>caabf9cbdf96eb1410295a673e953d304391bfbb</td>\n",
       "      <td>Liverpool target Neto is also wanted by PSG an...</td>\n",
       "      <td>Fiorentina goalkeeper Neto has been linked wit...</td>\n",
       "    </tr>\n",
       "    <tr>\n",
       "      <th>4</th>\n",
       "      <td>3da746a7d9afcaa659088c8366ef6347fe6b53ea</td>\n",
       "      <td>Bruce Jenner will break his silence in a two-h...</td>\n",
       "      <td>Tell-all interview with the reality TV star, 6...</td>\n",
       "    </tr>\n",
       "  </tbody>\n",
       "</table>\n",
       "</div>"
      ],
      "text/plain": [
       "                                         id  \\\n",
       "0  92c514c913c0bdfe25341af9fd72b29db544099b   \n",
       "1  2003841c7dc0e7c5b1a248f9cd536d727f27a45a   \n",
       "2  91b7d2311527f5c2b63a65ca98d21d9c92485149   \n",
       "3  caabf9cbdf96eb1410295a673e953d304391bfbb   \n",
       "4  3da746a7d9afcaa659088c8366ef6347fe6b53ea   \n",
       "\n",
       "                                             article  \\\n",
       "0  Ever noticed how plane seats appear to be gett...   \n",
       "1  A drunk teenage boy had to be rescued by secur...   \n",
       "2  Dougie Freedman is on the verge of agreeing a ...   \n",
       "3  Liverpool target Neto is also wanted by PSG an...   \n",
       "4  Bruce Jenner will break his silence in a two-h...   \n",
       "\n",
       "                                          highlights  \n",
       "0  Experts question if  packed out planes are put...  \n",
       "1  Drunk teenage boy climbed into lion enclosure ...  \n",
       "2  Nottingham Forest are close to extending Dougi...  \n",
       "3  Fiorentina goalkeeper Neto has been linked wit...  \n",
       "4  Tell-all interview with the reality TV star, 6...  "
      ]
     },
     "execution_count": 5,
     "metadata": {},
     "output_type": "execute_result"
    }
   ],
   "source": [
    "test_data.head()"
   ]
  },
  {
   "cell_type": "markdown",
   "id": "5c40c730-0708-48fc-b223-fd3457c913e8",
   "metadata": {},
   "source": [
    "*Loading the Validation data*"
   ]
  },
  {
   "cell_type": "code",
   "execution_count": 6,
   "id": "e98115d1-cd81-4983-89c5-39ef4e3e4f9a",
   "metadata": {},
   "outputs": [],
   "source": [
    "validation_data = pd.read_csv('cnn_dailymail/validation.csv')"
   ]
  },
  {
   "cell_type": "code",
   "execution_count": 7,
   "id": "89a29185-4173-44fd-bc73-3021cc10e9ee",
   "metadata": {},
   "outputs": [
    {
     "data": {
      "text/html": [
       "<div>\n",
       "<style scoped>\n",
       "    .dataframe tbody tr th:only-of-type {\n",
       "        vertical-align: middle;\n",
       "    }\n",
       "\n",
       "    .dataframe tbody tr th {\n",
       "        vertical-align: top;\n",
       "    }\n",
       "\n",
       "    .dataframe thead th {\n",
       "        text-align: right;\n",
       "    }\n",
       "</style>\n",
       "<table border=\"1\" class=\"dataframe\">\n",
       "  <thead>\n",
       "    <tr style=\"text-align: right;\">\n",
       "      <th></th>\n",
       "      <th>id</th>\n",
       "      <th>article</th>\n",
       "      <th>highlights</th>\n",
       "    </tr>\n",
       "  </thead>\n",
       "  <tbody>\n",
       "    <tr>\n",
       "      <th>0</th>\n",
       "      <td>61df4979ac5fcc2b71be46ed6fe5a46ce7f071c3</td>\n",
       "      <td>Sally Forrest, an actress-dancer who graced th...</td>\n",
       "      <td>Sally Forrest, an actress-dancer who graced th...</td>\n",
       "    </tr>\n",
       "    <tr>\n",
       "      <th>1</th>\n",
       "      <td>21c0bd69b7e7df285c3d1b1cf56d4da925980a68</td>\n",
       "      <td>A middle-school teacher in China has inked hun...</td>\n",
       "      <td>Works include pictures of Presidential Palace ...</td>\n",
       "    </tr>\n",
       "    <tr>\n",
       "      <th>2</th>\n",
       "      <td>56f340189cd128194b2e7cb8c26bb900e3a848b4</td>\n",
       "      <td>A man convicted of killing the father and sist...</td>\n",
       "      <td>Iftekhar Murtaza, 29, was convicted a year ago...</td>\n",
       "    </tr>\n",
       "    <tr>\n",
       "      <th>3</th>\n",
       "      <td>00a665151b89a53e5a08a389df8334f4106494c2</td>\n",
       "      <td>Avid rugby fan Prince Harry could barely watch...</td>\n",
       "      <td>Prince Harry in attendance for England's crunc...</td>\n",
       "    </tr>\n",
       "    <tr>\n",
       "      <th>4</th>\n",
       "      <td>9f6fbd3c497c4d28879bebebea220884f03eb41a</td>\n",
       "      <td>A Triple M Radio producer has been inundated w...</td>\n",
       "      <td>Nick Slater's colleagues uploaded a picture to...</td>\n",
       "    </tr>\n",
       "  </tbody>\n",
       "</table>\n",
       "</div>"
      ],
      "text/plain": [
       "                                         id  \\\n",
       "0  61df4979ac5fcc2b71be46ed6fe5a46ce7f071c3   \n",
       "1  21c0bd69b7e7df285c3d1b1cf56d4da925980a68   \n",
       "2  56f340189cd128194b2e7cb8c26bb900e3a848b4   \n",
       "3  00a665151b89a53e5a08a389df8334f4106494c2   \n",
       "4  9f6fbd3c497c4d28879bebebea220884f03eb41a   \n",
       "\n",
       "                                             article  \\\n",
       "0  Sally Forrest, an actress-dancer who graced th...   \n",
       "1  A middle-school teacher in China has inked hun...   \n",
       "2  A man convicted of killing the father and sist...   \n",
       "3  Avid rugby fan Prince Harry could barely watch...   \n",
       "4  A Triple M Radio producer has been inundated w...   \n",
       "\n",
       "                                          highlights  \n",
       "0  Sally Forrest, an actress-dancer who graced th...  \n",
       "1  Works include pictures of Presidential Palace ...  \n",
       "2  Iftekhar Murtaza, 29, was convicted a year ago...  \n",
       "3  Prince Harry in attendance for England's crunc...  \n",
       "4  Nick Slater's colleagues uploaded a picture to...  "
      ]
     },
     "execution_count": 7,
     "metadata": {},
     "output_type": "execute_result"
    }
   ],
   "source": [
    "validation_data.head()"
   ]
  },
  {
   "cell_type": "markdown",
   "id": "c781233e-987a-4391-a916-e422b090a765",
   "metadata": {},
   "source": [
    "*Dropping the unwanted column [id] from the train, test, validation datasets*"
   ]
  },
  {
   "cell_type": "code",
   "execution_count": 8,
   "id": "2a0753c0-580a-4388-aee9-de7a183817ff",
   "metadata": {},
   "outputs": [],
   "source": [
    "train_df = train_data.drop(columns='id')\n",
    "test_df = test_data.drop(columns='id')\n",
    "valid_df = validation_data.drop(columns='id')"
   ]
  },
  {
   "cell_type": "code",
   "execution_count": 9,
   "id": "6b70e37f-6e7a-4819-9a2f-1c8ee4ac59ea",
   "metadata": {},
   "outputs": [
    {
     "data": {
      "text/html": [
       "<div>\n",
       "<style scoped>\n",
       "    .dataframe tbody tr th:only-of-type {\n",
       "        vertical-align: middle;\n",
       "    }\n",
       "\n",
       "    .dataframe tbody tr th {\n",
       "        vertical-align: top;\n",
       "    }\n",
       "\n",
       "    .dataframe thead th {\n",
       "        text-align: right;\n",
       "    }\n",
       "</style>\n",
       "<table border=\"1\" class=\"dataframe\">\n",
       "  <thead>\n",
       "    <tr style=\"text-align: right;\">\n",
       "      <th></th>\n",
       "      <th>article</th>\n",
       "      <th>highlights</th>\n",
       "    </tr>\n",
       "  </thead>\n",
       "  <tbody>\n",
       "    <tr>\n",
       "      <th>0</th>\n",
       "      <td>By . Associated Press . PUBLISHED: . 14:11 EST...</td>\n",
       "      <td>Bishop John Folda, of North Dakota, is taking ...</td>\n",
       "    </tr>\n",
       "    <tr>\n",
       "      <th>1</th>\n",
       "      <td>(CNN) -- Ralph Mata was an internal affairs li...</td>\n",
       "      <td>Criminal complaint: Cop used his role to help ...</td>\n",
       "    </tr>\n",
       "    <tr>\n",
       "      <th>2</th>\n",
       "      <td>A drunk driver who killed a young woman in a h...</td>\n",
       "      <td>Craig Eccleston-Todd, 27, had drunk at least t...</td>\n",
       "    </tr>\n",
       "    <tr>\n",
       "      <th>3</th>\n",
       "      <td>(CNN) -- With a breezy sweep of his pen Presid...</td>\n",
       "      <td>Nina dos Santos says Europe must be ready to a...</td>\n",
       "    </tr>\n",
       "    <tr>\n",
       "      <th>4</th>\n",
       "      <td>Fleetwood are the only team still to have a 10...</td>\n",
       "      <td>Fleetwood top of League One after 2-0 win at S...</td>\n",
       "    </tr>\n",
       "  </tbody>\n",
       "</table>\n",
       "</div>"
      ],
      "text/plain": [
       "                                             article  \\\n",
       "0  By . Associated Press . PUBLISHED: . 14:11 EST...   \n",
       "1  (CNN) -- Ralph Mata was an internal affairs li...   \n",
       "2  A drunk driver who killed a young woman in a h...   \n",
       "3  (CNN) -- With a breezy sweep of his pen Presid...   \n",
       "4  Fleetwood are the only team still to have a 10...   \n",
       "\n",
       "                                          highlights  \n",
       "0  Bishop John Folda, of North Dakota, is taking ...  \n",
       "1  Criminal complaint: Cop used his role to help ...  \n",
       "2  Craig Eccleston-Todd, 27, had drunk at least t...  \n",
       "3  Nina dos Santos says Europe must be ready to a...  \n",
       "4  Fleetwood top of League One after 2-0 win at S...  "
      ]
     },
     "execution_count": 9,
     "metadata": {},
     "output_type": "execute_result"
    }
   ],
   "source": [
    "train_df.head()"
   ]
  },
  {
   "cell_type": "code",
   "execution_count": 10,
   "id": "9644f806-a031-43eb-8c9e-45fcb8308f8f",
   "metadata": {},
   "outputs": [
    {
     "data": {
      "text/html": [
       "<div>\n",
       "<style scoped>\n",
       "    .dataframe tbody tr th:only-of-type {\n",
       "        vertical-align: middle;\n",
       "    }\n",
       "\n",
       "    .dataframe tbody tr th {\n",
       "        vertical-align: top;\n",
       "    }\n",
       "\n",
       "    .dataframe thead th {\n",
       "        text-align: right;\n",
       "    }\n",
       "</style>\n",
       "<table border=\"1\" class=\"dataframe\">\n",
       "  <thead>\n",
       "    <tr style=\"text-align: right;\">\n",
       "      <th></th>\n",
       "      <th>article</th>\n",
       "      <th>highlights</th>\n",
       "    </tr>\n",
       "  </thead>\n",
       "  <tbody>\n",
       "    <tr>\n",
       "      <th>0</th>\n",
       "      <td>Ever noticed how plane seats appear to be gett...</td>\n",
       "      <td>Experts question if  packed out planes are put...</td>\n",
       "    </tr>\n",
       "    <tr>\n",
       "      <th>1</th>\n",
       "      <td>A drunk teenage boy had to be rescued by secur...</td>\n",
       "      <td>Drunk teenage boy climbed into lion enclosure ...</td>\n",
       "    </tr>\n",
       "    <tr>\n",
       "      <th>2</th>\n",
       "      <td>Dougie Freedman is on the verge of agreeing a ...</td>\n",
       "      <td>Nottingham Forest are close to extending Dougi...</td>\n",
       "    </tr>\n",
       "    <tr>\n",
       "      <th>3</th>\n",
       "      <td>Liverpool target Neto is also wanted by PSG an...</td>\n",
       "      <td>Fiorentina goalkeeper Neto has been linked wit...</td>\n",
       "    </tr>\n",
       "    <tr>\n",
       "      <th>4</th>\n",
       "      <td>Bruce Jenner will break his silence in a two-h...</td>\n",
       "      <td>Tell-all interview with the reality TV star, 6...</td>\n",
       "    </tr>\n",
       "  </tbody>\n",
       "</table>\n",
       "</div>"
      ],
      "text/plain": [
       "                                             article  \\\n",
       "0  Ever noticed how plane seats appear to be gett...   \n",
       "1  A drunk teenage boy had to be rescued by secur...   \n",
       "2  Dougie Freedman is on the verge of agreeing a ...   \n",
       "3  Liverpool target Neto is also wanted by PSG an...   \n",
       "4  Bruce Jenner will break his silence in a two-h...   \n",
       "\n",
       "                                          highlights  \n",
       "0  Experts question if  packed out planes are put...  \n",
       "1  Drunk teenage boy climbed into lion enclosure ...  \n",
       "2  Nottingham Forest are close to extending Dougi...  \n",
       "3  Fiorentina goalkeeper Neto has been linked wit...  \n",
       "4  Tell-all interview with the reality TV star, 6...  "
      ]
     },
     "execution_count": 10,
     "metadata": {},
     "output_type": "execute_result"
    }
   ],
   "source": [
    "test_df.head()"
   ]
  },
  {
   "cell_type": "code",
   "execution_count": 11,
   "id": "4e0c99b6-a7b3-4280-9baa-ff15b46f683f",
   "metadata": {},
   "outputs": [
    {
     "data": {
      "text/html": [
       "<div>\n",
       "<style scoped>\n",
       "    .dataframe tbody tr th:only-of-type {\n",
       "        vertical-align: middle;\n",
       "    }\n",
       "\n",
       "    .dataframe tbody tr th {\n",
       "        vertical-align: top;\n",
       "    }\n",
       "\n",
       "    .dataframe thead th {\n",
       "        text-align: right;\n",
       "    }\n",
       "</style>\n",
       "<table border=\"1\" class=\"dataframe\">\n",
       "  <thead>\n",
       "    <tr style=\"text-align: right;\">\n",
       "      <th></th>\n",
       "      <th>article</th>\n",
       "      <th>highlights</th>\n",
       "    </tr>\n",
       "  </thead>\n",
       "  <tbody>\n",
       "    <tr>\n",
       "      <th>0</th>\n",
       "      <td>Sally Forrest, an actress-dancer who graced th...</td>\n",
       "      <td>Sally Forrest, an actress-dancer who graced th...</td>\n",
       "    </tr>\n",
       "    <tr>\n",
       "      <th>1</th>\n",
       "      <td>A middle-school teacher in China has inked hun...</td>\n",
       "      <td>Works include pictures of Presidential Palace ...</td>\n",
       "    </tr>\n",
       "    <tr>\n",
       "      <th>2</th>\n",
       "      <td>A man convicted of killing the father and sist...</td>\n",
       "      <td>Iftekhar Murtaza, 29, was convicted a year ago...</td>\n",
       "    </tr>\n",
       "    <tr>\n",
       "      <th>3</th>\n",
       "      <td>Avid rugby fan Prince Harry could barely watch...</td>\n",
       "      <td>Prince Harry in attendance for England's crunc...</td>\n",
       "    </tr>\n",
       "    <tr>\n",
       "      <th>4</th>\n",
       "      <td>A Triple M Radio producer has been inundated w...</td>\n",
       "      <td>Nick Slater's colleagues uploaded a picture to...</td>\n",
       "    </tr>\n",
       "  </tbody>\n",
       "</table>\n",
       "</div>"
      ],
      "text/plain": [
       "                                             article  \\\n",
       "0  Sally Forrest, an actress-dancer who graced th...   \n",
       "1  A middle-school teacher in China has inked hun...   \n",
       "2  A man convicted of killing the father and sist...   \n",
       "3  Avid rugby fan Prince Harry could barely watch...   \n",
       "4  A Triple M Radio producer has been inundated w...   \n",
       "\n",
       "                                          highlights  \n",
       "0  Sally Forrest, an actress-dancer who graced th...  \n",
       "1  Works include pictures of Presidential Palace ...  \n",
       "2  Iftekhar Murtaza, 29, was convicted a year ago...  \n",
       "3  Prince Harry in attendance for England's crunc...  \n",
       "4  Nick Slater's colleagues uploaded a picture to...  "
      ]
     },
     "execution_count": 11,
     "metadata": {},
     "output_type": "execute_result"
    }
   ],
   "source": [
    "valid_df.head()"
   ]
  },
  {
   "cell_type": "code",
   "execution_count": 12,
   "id": "0fddfedc-53f5-4d73-832d-fd058dc2bf5a",
   "metadata": {},
   "outputs": [
    {
     "name": "stdout",
     "output_type": "stream",
     "text": [
      "Train Data -------> 287113\n",
      "Test Data --------> 11490\n",
      "Validation Data --> 13368\n"
     ]
    }
   ],
   "source": [
    "print('Train Data ------->',len(train_df))\n",
    "print('Test Data -------->',len(test_df))\n",
    "print('Validation Data -->',len(valid_df))"
   ]
  },
  {
   "cell_type": "code",
   "execution_count": 13,
   "id": "92954806-efc4-4216-91ad-858ca8fa54ac",
   "metadata": {},
   "outputs": [
    {
     "name": "stdout",
     "output_type": "stream",
     "text": [
      "Train Data -------> Index(['article', 'highlights'], dtype='object')\n",
      "Test Data --------> Index(['article', 'highlights'], dtype='object')\n",
      "Validation Data --> Index(['article', 'highlights'], dtype='object')\n"
     ]
    }
   ],
   "source": [
    "print('Train Data ------->',train_df.columns)\n",
    "print('Test Data -------->',test_df.columns)\n",
    "print('Validation Data -->',valid_df.columns)"
   ]
  },
  {
   "cell_type": "code",
   "execution_count": 14,
   "id": "1c132aa5-db95-48e4-aec8-789f28dbbd46",
   "metadata": {},
   "outputs": [
    {
     "name": "stdout",
     "output_type": "stream",
     "text": [
      "Train Data missing values:\n",
      "article       0\n",
      "highlights    0\n",
      "dtype: int64\n",
      "-------------------------\n",
      "Test Data missing values:\n",
      "article       0\n",
      "highlights    0\n",
      "dtype: int64\n",
      "-------------------------\n",
      "Validation Data missing values:\n",
      "article       0\n",
      "highlights    0\n",
      "dtype: int64\n",
      "-------------------------\n"
     ]
    }
   ],
   "source": [
    "datasets = [train_df, test_df, valid_df]\n",
    "dataset_names = ['Train Data', 'Test Data', 'Validation Data']\n",
    "for i,dataset in enumerate(datasets):\n",
    "    print(f'{dataset_names[i]} missing values:')\n",
    "    print(dataset.isnull().sum())\n",
    "    print('-------------------------')"
   ]
  },
  {
   "cell_type": "code",
   "execution_count": 15,
   "id": "61184d36-4560-4788-8f3f-2d6084cd6404",
   "metadata": {},
   "outputs": [
    {
     "name": "stdout",
     "output_type": "stream",
     "text": [
      "<class 'pandas.core.frame.DataFrame'>\n",
      "RangeIndex: 287113 entries, 0 to 287112\n",
      "Data columns (total 2 columns):\n",
      " #   Column      Non-Null Count   Dtype \n",
      "---  ------      --------------   ----- \n",
      " 0   article     287113 non-null  object\n",
      " 1   highlights  287113 non-null  object\n",
      "dtypes: object(2)\n",
      "memory usage: 4.4+ MB\n",
      "None\n",
      "===================================================\n",
      "<class 'pandas.core.frame.DataFrame'>\n",
      "RangeIndex: 11490 entries, 0 to 11489\n",
      "Data columns (total 2 columns):\n",
      " #   Column      Non-Null Count  Dtype \n",
      "---  ------      --------------  ----- \n",
      " 0   article     11490 non-null  object\n",
      " 1   highlights  11490 non-null  object\n",
      "dtypes: object(2)\n",
      "memory usage: 179.7+ KB\n",
      "None\n",
      "===================================================\n",
      "<class 'pandas.core.frame.DataFrame'>\n",
      "RangeIndex: 13368 entries, 0 to 13367\n",
      "Data columns (total 2 columns):\n",
      " #   Column      Non-Null Count  Dtype \n",
      "---  ------      --------------  ----- \n",
      " 0   article     13368 non-null  object\n",
      " 1   highlights  13368 non-null  object\n",
      "dtypes: object(2)\n",
      "memory usage: 209.0+ KB\n",
      "None\n",
      "===================================================\n"
     ]
    }
   ],
   "source": [
    "datasets = [train_df, test_df, valid_df]\n",
    "for dataset in datasets:\n",
    "    print(dataset.info())\n",
    "    print('===================================================')"
   ]
  },
  {
   "cell_type": "code",
   "execution_count": 16,
   "id": "69e110f9-06ae-4464-a5a9-434ca7e72e22",
   "metadata": {},
   "outputs": [
    {
     "name": "stdout",
     "output_type": "stream",
     "text": [
      "ARTICLE:\n",
      " By . Associated Press . PUBLISHED: . 14:11 EST, 25 October 2013 . | . UPDATED: . 15:36 EST, 25 October 2013 . The bishop of the Fargo Catholic Diocese in North Dakota has exposed potentially hundreds of church members in Fargo, Grand Forks and Jamestown to the hepatitis A virus in late September and early October. The state Health Department has issued an advisory of exposure for anyone who attended five churches and took communion. Bishop John Folda (pictured) of the Fargo Catholic Diocese in North Dakota has exposed potentially hundreds of church members in Fargo, Grand Forks and Jamestown to the hepatitis A . State Immunization Program Manager Molly Howell says the risk is low, but officials feel it's important to alert people to the possible exposure. The diocese announced on Monday that Bishop John Folda is taking time off after being diagnosed with hepatitis A. The diocese says he contracted the infection through contaminated food while attending a conference for newly ordained bishops in Italy last month. Symptoms of hepatitis A include fever, tiredness, loss of appetite, nausea and abdominal discomfort. Fargo Catholic Diocese in North Dakota (pictured) is where the bishop is located .\n",
      "=====================================================================================================================================================\n",
      "Summary:\n",
      " Bishop John Folda, of North Dakota, is taking time off after being diagnosed .\n",
      "He contracted the infection through contaminated food in Italy .\n",
      "Church members in Fargo, Grand Forks and Jamestown could have been exposed .\n"
     ]
    }
   ],
   "source": [
    "print('ARTICLE:\\n', train_df['article'][0])\n",
    "print('=====================================================================================================================================================')\n",
    "print('Summary:\\n', train_df['highlights'][0])"
   ]
  },
  {
   "cell_type": "code",
   "execution_count": 17,
   "id": "cd3d2ea8-3ea5-4d13-b3f3-a11a59a9d59d",
   "metadata": {},
   "outputs": [
    {
     "data": {
      "text/html": [
       "<div>\n",
       "<style scoped>\n",
       "    .dataframe tbody tr th:only-of-type {\n",
       "        vertical-align: middle;\n",
       "    }\n",
       "\n",
       "    .dataframe tbody tr th {\n",
       "        vertical-align: top;\n",
       "    }\n",
       "\n",
       "    .dataframe thead th {\n",
       "        text-align: right;\n",
       "    }\n",
       "</style>\n",
       "<table border=\"1\" class=\"dataframe\">\n",
       "  <thead>\n",
       "    <tr style=\"text-align: right;\">\n",
       "      <th></th>\n",
       "      <th>article</th>\n",
       "      <th>highlights</th>\n",
       "    </tr>\n",
       "  </thead>\n",
       "  <tbody>\n",
       "    <tr>\n",
       "      <th>0</th>\n",
       "      <td>By . Associated Press . PUBLISHED: . 14:11 EST...</td>\n",
       "      <td>Bishop John Folda, of North Dakota, is taking ...</td>\n",
       "    </tr>\n",
       "    <tr>\n",
       "      <th>1</th>\n",
       "      <td>(CNN) -- Ralph Mata was an internal affairs li...</td>\n",
       "      <td>Criminal complaint: Cop used his role to help ...</td>\n",
       "    </tr>\n",
       "    <tr>\n",
       "      <th>2</th>\n",
       "      <td>A drunk driver who killed a young woman in a h...</td>\n",
       "      <td>Craig Eccleston-Todd, 27, had drunk at least t...</td>\n",
       "    </tr>\n",
       "    <tr>\n",
       "      <th>3</th>\n",
       "      <td>(CNN) -- With a breezy sweep of his pen Presid...</td>\n",
       "      <td>Nina dos Santos says Europe must be ready to a...</td>\n",
       "    </tr>\n",
       "    <tr>\n",
       "      <th>4</th>\n",
       "      <td>Fleetwood are the only team still to have a 10...</td>\n",
       "      <td>Fleetwood top of League One after 2-0 win at S...</td>\n",
       "    </tr>\n",
       "  </tbody>\n",
       "</table>\n",
       "</div>"
      ],
      "text/plain": [
       "                                             article  \\\n",
       "0  By . Associated Press . PUBLISHED: . 14:11 EST...   \n",
       "1  (CNN) -- Ralph Mata was an internal affairs li...   \n",
       "2  A drunk driver who killed a young woman in a h...   \n",
       "3  (CNN) -- With a breezy sweep of his pen Presid...   \n",
       "4  Fleetwood are the only team still to have a 10...   \n",
       "\n",
       "                                          highlights  \n",
       "0  Bishop John Folda, of North Dakota, is taking ...  \n",
       "1  Criminal complaint: Cop used his role to help ...  \n",
       "2  Craig Eccleston-Todd, 27, had drunk at least t...  \n",
       "3  Nina dos Santos says Europe must be ready to a...  \n",
       "4  Fleetwood top of League One after 2-0 win at S...  "
      ]
     },
     "execution_count": 17,
     "metadata": {},
     "output_type": "execute_result"
    }
   ],
   "source": [
    "train_df.head()"
   ]
  },
  {
   "cell_type": "markdown",
   "id": "1c9bd6db-3802-42dc-b942-b99a6dd436fd",
   "metadata": {},
   "source": [
    "Pre-processing"
   ]
  },
  {
   "cell_type": "markdown",
   "id": "5a9fb7c0-051b-4191-a578-54b79b492b24",
   "metadata": {},
   "source": [
    "*Converting the Train Dataset into the lowercase data*"
   ]
  },
  {
   "cell_type": "code",
   "execution_count": 18,
   "id": "0c2a5e68-9986-4621-820e-6126549a5e27",
   "metadata": {},
   "outputs": [],
   "source": [
    "train_df['article'] = train_df['article'].apply(lambda x:x.lower())\n",
    "train_df['highlights'] = train_df['highlights'].apply(lambda x:x.lower())"
   ]
  },
  {
   "cell_type": "code",
   "execution_count": 19,
   "id": "53d59f15-90cc-431e-9611-204468e60c69",
   "metadata": {},
   "outputs": [
    {
     "data": {
      "text/html": [
       "<div>\n",
       "<style scoped>\n",
       "    .dataframe tbody tr th:only-of-type {\n",
       "        vertical-align: middle;\n",
       "    }\n",
       "\n",
       "    .dataframe tbody tr th {\n",
       "        vertical-align: top;\n",
       "    }\n",
       "\n",
       "    .dataframe thead th {\n",
       "        text-align: right;\n",
       "    }\n",
       "</style>\n",
       "<table border=\"1\" class=\"dataframe\">\n",
       "  <thead>\n",
       "    <tr style=\"text-align: right;\">\n",
       "      <th></th>\n",
       "      <th>article</th>\n",
       "      <th>highlights</th>\n",
       "    </tr>\n",
       "  </thead>\n",
       "  <tbody>\n",
       "    <tr>\n",
       "      <th>0</th>\n",
       "      <td>by . associated press . published: . 14:11 est...</td>\n",
       "      <td>bishop john folda, of north dakota, is taking ...</td>\n",
       "    </tr>\n",
       "    <tr>\n",
       "      <th>1</th>\n",
       "      <td>(cnn) -- ralph mata was an internal affairs li...</td>\n",
       "      <td>criminal complaint: cop used his role to help ...</td>\n",
       "    </tr>\n",
       "    <tr>\n",
       "      <th>2</th>\n",
       "      <td>a drunk driver who killed a young woman in a h...</td>\n",
       "      <td>craig eccleston-todd, 27, had drunk at least t...</td>\n",
       "    </tr>\n",
       "    <tr>\n",
       "      <th>3</th>\n",
       "      <td>(cnn) -- with a breezy sweep of his pen presid...</td>\n",
       "      <td>nina dos santos says europe must be ready to a...</td>\n",
       "    </tr>\n",
       "    <tr>\n",
       "      <th>4</th>\n",
       "      <td>fleetwood are the only team still to have a 10...</td>\n",
       "      <td>fleetwood top of league one after 2-0 win at s...</td>\n",
       "    </tr>\n",
       "  </tbody>\n",
       "</table>\n",
       "</div>"
      ],
      "text/plain": [
       "                                             article  \\\n",
       "0  by . associated press . published: . 14:11 est...   \n",
       "1  (cnn) -- ralph mata was an internal affairs li...   \n",
       "2  a drunk driver who killed a young woman in a h...   \n",
       "3  (cnn) -- with a breezy sweep of his pen presid...   \n",
       "4  fleetwood are the only team still to have a 10...   \n",
       "\n",
       "                                          highlights  \n",
       "0  bishop john folda, of north dakota, is taking ...  \n",
       "1  criminal complaint: cop used his role to help ...  \n",
       "2  craig eccleston-todd, 27, had drunk at least t...  \n",
       "3  nina dos santos says europe must be ready to a...  \n",
       "4  fleetwood top of league one after 2-0 win at s...  "
      ]
     },
     "execution_count": 19,
     "metadata": {},
     "output_type": "execute_result"
    }
   ],
   "source": [
    "train_df.head()"
   ]
  },
  {
   "cell_type": "markdown",
   "id": "427e8d20-491d-4165-9eb4-0efc351b9fc0",
   "metadata": {},
   "source": [
    "Handling Contractions"
   ]
  },
  {
   "cell_type": "code",
   "execution_count": 24,
   "id": "bbadcf2a-bbd1-449a-9412-9a97a9a713fe",
   "metadata": {},
   "outputs": [],
   "source": [
    "import contractions"
   ]
  },
  {
   "cell_type": "code",
   "execution_count": 26,
   "id": "ccc2cf2b-a6f8-4d09-bdf8-72914d2d6330",
   "metadata": {},
   "outputs": [],
   "source": [
    "train_df['article'] = train_df['article'].apply(contractions.fix)"
   ]
  },
  {
   "cell_type": "code",
   "execution_count": 27,
   "id": "bd4012ec-9b92-49a4-aa7c-7f3bddc40ecc",
   "metadata": {},
   "outputs": [],
   "source": [
    "train_df['highlights'] = train_df['highlights'].apply(contractions.fix)"
   ]
  },
  {
   "cell_type": "code",
   "execution_count": 28,
   "id": "1a9409cb-e86e-41e9-8d38-d8961c1cfc00",
   "metadata": {},
   "outputs": [
    {
     "data": {
      "text/html": [
       "<div>\n",
       "<style scoped>\n",
       "    .dataframe tbody tr th:only-of-type {\n",
       "        vertical-align: middle;\n",
       "    }\n",
       "\n",
       "    .dataframe tbody tr th {\n",
       "        vertical-align: top;\n",
       "    }\n",
       "\n",
       "    .dataframe thead th {\n",
       "        text-align: right;\n",
       "    }\n",
       "</style>\n",
       "<table border=\"1\" class=\"dataframe\">\n",
       "  <thead>\n",
       "    <tr style=\"text-align: right;\">\n",
       "      <th></th>\n",
       "      <th>article</th>\n",
       "      <th>highlights</th>\n",
       "    </tr>\n",
       "  </thead>\n",
       "  <tbody>\n",
       "    <tr>\n",
       "      <th>0</th>\n",
       "      <td>by . associated press . published: . 14:11 est...</td>\n",
       "      <td>bishop john folda, of north dakota, is taking ...</td>\n",
       "    </tr>\n",
       "    <tr>\n",
       "      <th>1</th>\n",
       "      <td>(cnn) -- ralph mata was an internal affairs li...</td>\n",
       "      <td>criminal complaint: cop used his role to help ...</td>\n",
       "    </tr>\n",
       "    <tr>\n",
       "      <th>2</th>\n",
       "      <td>a drunk driver who killed a young woman in a h...</td>\n",
       "      <td>craig eccleston-todd, 27, had drunk at least t...</td>\n",
       "    </tr>\n",
       "    <tr>\n",
       "      <th>3</th>\n",
       "      <td>(cnn) -- with a breezy sweep of his pen presid...</td>\n",
       "      <td>nina dos santos says europe must be ready to a...</td>\n",
       "    </tr>\n",
       "    <tr>\n",
       "      <th>4</th>\n",
       "      <td>fleetwood are the only team still to have a 10...</td>\n",
       "      <td>fleetwood top of league one after 2-0 win at s...</td>\n",
       "    </tr>\n",
       "  </tbody>\n",
       "</table>\n",
       "</div>"
      ],
      "text/plain": [
       "                                             article  \\\n",
       "0  by . associated press . published: . 14:11 est...   \n",
       "1  (cnn) -- ralph mata was an internal affairs li...   \n",
       "2  a drunk driver who killed a young woman in a h...   \n",
       "3  (cnn) -- with a breezy sweep of his pen presid...   \n",
       "4  fleetwood are the only team still to have a 10...   \n",
       "\n",
       "                                          highlights  \n",
       "0  bishop john folda, of north dakota, is taking ...  \n",
       "1  criminal complaint: cop used his role to help ...  \n",
       "2  craig eccleston-todd, 27, had drunk at least t...  \n",
       "3  nina dos santos says europe must be ready to a...  \n",
       "4  fleetwood top of league one after 2-0 win at s...  "
      ]
     },
     "execution_count": 28,
     "metadata": {},
     "output_type": "execute_result"
    }
   ],
   "source": [
    "train_df.head()"
   ]
  },
  {
   "cell_type": "markdown",
   "id": "b03eb68c-9571-4ed1-98d8-1af98d5b6fb8",
   "metadata": {},
   "source": [
    "Removing Special Characters, Numbers and Punctuations"
   ]
  },
  {
   "cell_type": "code",
   "execution_count": 29,
   "id": "b2762a6c-7e81-4493-986f-6fec93a0607d",
   "metadata": {},
   "outputs": [
    {
     "name": "stdout",
     "output_type": "stream",
     "text": [
      "Cleaned Training Data Head:\n",
      "                                             article  \\\n",
      "0  by associated press published est october upda...   \n",
      "1  cnn ralph mata was an internal affairs lieuten...   \n",
      "2  a drunk driver who killed a young woman in a h...   \n",
      "3  cnn with a breezy sweep of his pen president v...   \n",
      "4  fleetwood are the only team still to have a re...   \n",
      "\n",
      "                                          highlights  \n",
      "0  bishop john folda of north dakota is taking ti...  \n",
      "1  criminal complaint cop used his role to help c...  \n",
      "2  craig ecclestontodd had drunk at least three p...  \n",
      "3  nina dos santos says europe must be ready to a...  \n",
      "4  fleetwood top of league one after win at scunt...  \n"
     ]
    }
   ],
   "source": [
    "import re\n",
    "\n",
    "# Function to clean text\n",
    "def clean_text(text):\n",
    "    # Remove numbers\n",
    "    text = re.sub(r'\\d+', '', text)\n",
    "    # Remove special characters and punctuation\n",
    "    text = re.sub(r'[^\\w\\s]', '', text)\n",
    "    # Remove extra spaces\n",
    "    text = re.sub(r'\\s+', ' ', text).strip()\n",
    "    return text\n",
    "\n",
    "train_df['article'] = train_df['article'].apply(clean_text)\n",
    "train_df['highlights'] = train_df['highlights'].apply(clean_text)"
   ]
  },
  {
   "cell_type": "code",
   "execution_count": 30,
   "id": "5d59183f-9453-4e1f-a9b0-c347561474f1",
   "metadata": {},
   "outputs": [
    {
     "data": {
      "text/html": [
       "<div>\n",
       "<style scoped>\n",
       "    .dataframe tbody tr th:only-of-type {\n",
       "        vertical-align: middle;\n",
       "    }\n",
       "\n",
       "    .dataframe tbody tr th {\n",
       "        vertical-align: top;\n",
       "    }\n",
       "\n",
       "    .dataframe thead th {\n",
       "        text-align: right;\n",
       "    }\n",
       "</style>\n",
       "<table border=\"1\" class=\"dataframe\">\n",
       "  <thead>\n",
       "    <tr style=\"text-align: right;\">\n",
       "      <th></th>\n",
       "      <th>article</th>\n",
       "      <th>highlights</th>\n",
       "    </tr>\n",
       "  </thead>\n",
       "  <tbody>\n",
       "    <tr>\n",
       "      <th>0</th>\n",
       "      <td>by associated press published est october upda...</td>\n",
       "      <td>bishop john folda of north dakota is taking ti...</td>\n",
       "    </tr>\n",
       "    <tr>\n",
       "      <th>1</th>\n",
       "      <td>cnn ralph mata was an internal affairs lieuten...</td>\n",
       "      <td>criminal complaint cop used his role to help c...</td>\n",
       "    </tr>\n",
       "    <tr>\n",
       "      <th>2</th>\n",
       "      <td>a drunk driver who killed a young woman in a h...</td>\n",
       "      <td>craig ecclestontodd had drunk at least three p...</td>\n",
       "    </tr>\n",
       "    <tr>\n",
       "      <th>3</th>\n",
       "      <td>cnn with a breezy sweep of his pen president v...</td>\n",
       "      <td>nina dos santos says europe must be ready to a...</td>\n",
       "    </tr>\n",
       "    <tr>\n",
       "      <th>4</th>\n",
       "      <td>fleetwood are the only team still to have a re...</td>\n",
       "      <td>fleetwood top of league one after win at scunt...</td>\n",
       "    </tr>\n",
       "  </tbody>\n",
       "</table>\n",
       "</div>"
      ],
      "text/plain": [
       "                                             article  \\\n",
       "0  by associated press published est october upda...   \n",
       "1  cnn ralph mata was an internal affairs lieuten...   \n",
       "2  a drunk driver who killed a young woman in a h...   \n",
       "3  cnn with a breezy sweep of his pen president v...   \n",
       "4  fleetwood are the only team still to have a re...   \n",
       "\n",
       "                                          highlights  \n",
       "0  bishop john folda of north dakota is taking ti...  \n",
       "1  criminal complaint cop used his role to help c...  \n",
       "2  craig ecclestontodd had drunk at least three p...  \n",
       "3  nina dos santos says europe must be ready to a...  \n",
       "4  fleetwood top of league one after win at scunt...  "
      ]
     },
     "execution_count": 30,
     "metadata": {},
     "output_type": "execute_result"
    }
   ],
   "source": [
    "train_df.head()"
   ]
  },
  {
   "cell_type": "markdown",
   "id": "51823f26-a583-4d55-88bc-5c63769800af",
   "metadata": {},
   "source": [
    "Tokenization"
   ]
  },
  {
   "cell_type": "code",
   "execution_count": 32,
   "id": "25595653-d4af-4b7b-808f-fc3a5581fad3",
   "metadata": {},
   "outputs": [
    {
     "name": "stdout",
     "output_type": "stream",
     "text": [
      "Collecting nltkNote: you may need to restart the kernel to use updated packages.\n",
      "\n",
      "  Downloading nltk-3.8.1-py3-none-any.whl.metadata (2.8 kB)\n",
      "Requirement already satisfied: click in c:\\users\\sivaa\\appdata\\local\\programs\\python\\python310\\lib\\site-packages (from nltk) (8.1.7)\n",
      "Requirement already satisfied: joblib in c:\\users\\sivaa\\appdata\\local\\programs\\python\\python310\\lib\\site-packages (from nltk) (1.3.2)\n",
      "Collecting regex>=2021.8.3 (from nltk)\n",
      "  Downloading regex-2024.5.15-cp310-cp310-win_amd64.whl.metadata (41 kB)\n",
      "     ---------------------------------------- 0.0/42.0 kB ? eta -:--:--\n",
      "     ------------------ ------------------- 20.5/42.0 kB 640.0 kB/s eta 0:00:01\n",
      "     -------------------------------------  41.0/42.0 kB 393.8 kB/s eta 0:00:01\n",
      "     -------------------------------------  41.0/42.0 kB 393.8 kB/s eta 0:00:01\n",
      "     -------------------------------------- 42.0/42.0 kB 253.9 kB/s eta 0:00:00\n",
      "Requirement already satisfied: tqdm in c:\\users\\sivaa\\appdata\\local\\programs\\python\\python310\\lib\\site-packages (from nltk) (4.66.2)\n",
      "Requirement already satisfied: colorama in c:\\users\\sivaa\\appdata\\local\\programs\\python\\python310\\lib\\site-packages (from click->nltk) (0.4.6)\n",
      "Downloading nltk-3.8.1-py3-none-any.whl (1.5 MB)\n",
      "   ---------------------------------------- 0.0/1.5 MB ? eta -:--:--\n",
      "   ---------------------------------------- 0.0/1.5 MB ? eta -:--:--\n",
      "   ---------------------------------------- 0.0/1.5 MB ? eta -:--:--\n",
      "    --------------------------------------- 0.0/1.5 MB 217.9 kB/s eta 0:00:07\n",
      "   - -------------------------------------- 0.1/1.5 MB 328.2 kB/s eta 0:00:05\n",
      "   -- ------------------------------------- 0.1/1.5 MB 467.6 kB/s eta 0:00:03\n",
      "   --- ------------------------------------ 0.1/1.5 MB 500.5 kB/s eta 0:00:03\n",
      "   ---- ----------------------------------- 0.2/1.5 MB 482.7 kB/s eta 0:00:03\n",
      "   ----- ---------------------------------- 0.2/1.5 MB 541.9 kB/s eta 0:00:03\n",
      "   ------ --------------------------------- 0.3/1.5 MB 605.3 kB/s eta 0:00:03\n",
      "   ------ --------------------------------- 0.3/1.5 MB 605.3 kB/s eta 0:00:03\n",
      "   -------- ------------------------------- 0.3/1.5 MB 677.0 kB/s eta 0:00:02\n",
      "   --------- ------------------------------ 0.4/1.5 MB 655.7 kB/s eta 0:00:02\n",
      "   ---------- ----------------------------- 0.4/1.5 MB 655.1 kB/s eta 0:00:02\n",
      "   ----------- ---------------------------- 0.4/1.5 MB 655.4 kB/s eta 0:00:02\n",
      "   ----------- ---------------------------- 0.4/1.5 MB 626.0 kB/s eta 0:00:02\n",
      "   ------------ --------------------------- 0.5/1.5 MB 641.7 kB/s eta 0:00:02\n",
      "   ------------- -------------------------- 0.5/1.5 MB 641.7 kB/s eta 0:00:02\n",
      "   ------------- -------------------------- 0.5/1.5 MB 630.5 kB/s eta 0:00:02\n",
      "   -------------- ------------------------- 0.5/1.5 MB 596.8 kB/s eta 0:00:02\n",
      "   -------------- ------------------------- 0.6/1.5 MB 599.7 kB/s eta 0:00:02\n",
      "   --------------- ------------------------ 0.6/1.5 MB 601.7 kB/s eta 0:00:02\n",
      "   ---------------- ----------------------- 0.6/1.5 MB 614.8 kB/s eta 0:00:02\n",
      "   ------------------ --------------------- 0.7/1.5 MB 636.4 kB/s eta 0:00:02\n",
      "   ------------------- -------------------- 0.7/1.5 MB 646.3 kB/s eta 0:00:02\n",
      "   ------------------- -------------------- 0.7/1.5 MB 646.2 kB/s eta 0:00:02\n",
      "   --------------------- ------------------ 0.8/1.5 MB 655.4 kB/s eta 0:00:02\n",
      "   ---------------------- ----------------- 0.8/1.5 MB 671.7 kB/s eta 0:00:01\n",
      "   ----------------------- ---------------- 0.9/1.5 MB 671.1 kB/s eta 0:00:01\n",
      "   ----------------------- ---------------- 0.9/1.5 MB 655.2 kB/s eta 0:00:01\n",
      "   ------------------------ --------------- 0.9/1.5 MB 647.8 kB/s eta 0:00:01\n",
      "   ------------------------ --------------- 0.9/1.5 MB 641.3 kB/s eta 0:00:01\n",
      "   ------------------------- -------------- 1.0/1.5 MB 634.9 kB/s eta 0:00:01\n",
      "   ------------------------- -------------- 1.0/1.5 MB 628.7 kB/s eta 0:00:01\n",
      "   -------------------------- ------------- 1.0/1.5 MB 629.6 kB/s eta 0:00:01\n",
      "   -------------------------- ------------- 1.0/1.5 MB 629.6 kB/s eta 0:00:01\n",
      "   ---------------------------- ----------- 1.1/1.5 MB 625.3 kB/s eta 0:00:01\n",
      "   ----------------------------- ---------- 1.1/1.5 MB 626.0 kB/s eta 0:00:01\n",
      "   ----------------------------- ---------- 1.1/1.5 MB 626.7 kB/s eta 0:00:01\n",
      "   ------------------------------- -------- 1.2/1.5 MB 638.6 kB/s eta 0:00:01\n",
      "   ------------------------------- -------- 1.2/1.5 MB 628.1 kB/s eta 0:00:01\n",
      "   ------------------------------- -------- 1.2/1.5 MB 628.1 kB/s eta 0:00:01\n",
      "   -------------------------------- ------- 1.2/1.5 MB 628.7 kB/s eta 0:00:01\n",
      "   -------------------------------- ------- 1.2/1.5 MB 628.7 kB/s eta 0:00:01\n",
      "   -------------------------------- ------- 1.2/1.5 MB 628.7 kB/s eta 0:00:01\n",
      "   ----------------------------------- ---- 1.3/1.5 MB 635.7 kB/s eta 0:00:01\n",
      "   ----------------------------------- ---- 1.3/1.5 MB 635.7 kB/s eta 0:00:01\n",
      "   ------------------------------------ --- 1.4/1.5 MB 622.7 kB/s eta 0:00:01\n",
      "   ------------------------------------ --- 1.4/1.5 MB 622.7 kB/s eta 0:00:01\n",
      "   ------------------------------------ --- 1.4/1.5 MB 597.4 kB/s eta 0:00:01\n",
      "   ------------------------------------- -- 1.4/1.5 MB 607.0 kB/s eta 0:00:01\n",
      "   ------------------------------------- -- 1.4/1.5 MB 603.4 kB/s eta 0:00:01\n",
      "   -------------------------------------- - 1.5/1.5 MB 596.1 kB/s eta 0:00:01\n",
      "   -------------------------------------- - 1.5/1.5 MB 596.7 kB/s eta 0:00:01\n",
      "   -------------------------------------- - 1.5/1.5 MB 596.7 kB/s eta 0:00:01\n",
      "   -------------------------------------- - 1.5/1.5 MB 596.7 kB/s eta 0:00:01\n",
      "   -------------------------------------- - 1.5/1.5 MB 596.7 kB/s eta 0:00:01\n",
      "   -------------------------------------- - 1.5/1.5 MB 596.7 kB/s eta 0:00:01\n",
      "   -------------------------------------- - 1.5/1.5 MB 596.7 kB/s eta 0:00:01\n",
      "   ---------------------------------------  1.5/1.5 MB 546.8 kB/s eta 0:00:01\n",
      "   ---------------------------------------  1.5/1.5 MB 546.8 kB/s eta 0:00:01\n",
      "   ---------------------------------------- 1.5/1.5 MB 530.6 kB/s eta 0:00:00\n",
      "Downloading regex-2024.5.15-cp310-cp310-win_amd64.whl (268 kB)\n",
      "   ---------------------------------------- 0.0/269.0 kB ? eta -:--:--\n",
      "   - -------------------------------------- 10.2/269.0 kB ? eta -:--:--\n",
      "   ----- --------------------------------- 41.0/269.0 kB 495.5 kB/s eta 0:00:01\n",
      "   ----------- --------------------------- 81.9/269.0 kB 657.6 kB/s eta 0:00:01\n",
      "   -------------------- ----------------- 143.4/269.0 kB 853.3 kB/s eta 0:00:01\n",
      "   ---------------------------- --------- 204.8/269.0 kB 958.4 kB/s eta 0:00:01\n",
      "   ---------------------------------- --- 245.8/269.0 kB 942.1 kB/s eta 0:00:01\n",
      "   -------------------------------------  266.2/269.0 kB 966.0 kB/s eta 0:00:01\n",
      "   -------------------------------------- 269.0/269.0 kB 752.1 kB/s eta 0:00:00\n",
      "Installing collected packages: regex, nltk\n",
      "Successfully installed nltk-3.8.1 regex-2024.5.15\n"
     ]
    }
   ],
   "source": [
    "pip install nltk"
   ]
  },
  {
   "cell_type": "code",
   "execution_count": null,
   "id": "7e2713a0-bfaa-4404-8736-9751a9d4279a",
   "metadata": {},
   "outputs": [
    {
     "name": "stderr",
     "output_type": "stream",
     "text": [
      "[nltk_data] Downloading package punkt to\n",
      "[nltk_data]     C:\\Users\\sivaa\\AppData\\Roaming\\nltk_data...\n",
      "[nltk_data]   Unzipping tokenizers\\punkt.zip.\n"
     ]
    }
   ],
   "source": [
    "import nltk\n",
    "from nltk.tokenize import word_tokenize\n",
    "\n",
    "# Download necessary NLTK data\n",
    "nltk.download('punkt')\n",
    "\n",
    "# Function to tokenize text\n",
    "def tokenize_text(text):\n",
    "\n",
    "    tokens = word_tokenize(text)\n",
    "    # Join tokens back to string with spaces in between\n",
    "    return ' '.join(tokens)\n",
    "\n",
    "train_df['article'] = train_df['article'].apply(tokenize_text)\n",
    "train_df['highlights'] = train_df['highlights'].apply(tokenize_text)"
   ]
  },
  {
   "cell_type": "code",
   "execution_count": null,
   "id": "6f590606-a611-40c3-a82b-394c44a80cff",
   "metadata": {},
   "outputs": [],
   "source": []
  }
 ],
 "metadata": {
  "kernelspec": {
   "display_name": "Python 3 (ipykernel)",
   "language": "python",
   "name": "python3"
  },
  "language_info": {
   "codemirror_mode": {
    "name": "ipython",
    "version": 3
   },
   "file_extension": ".py",
   "mimetype": "text/x-python",
   "name": "python",
   "nbconvert_exporter": "python",
   "pygments_lexer": "ipython3",
   "version": "3.10.11"
  }
 },
 "nbformat": 4,
 "nbformat_minor": 5
}
