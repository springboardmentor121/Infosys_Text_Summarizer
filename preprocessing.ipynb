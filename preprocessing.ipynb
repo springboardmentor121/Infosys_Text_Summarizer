{
 "cells": [
  {
   "cell_type": "markdown",
   "id": "f1d413f5-af0c-4ed5-af9d-eeae8e8960f0",
   "metadata": {},
   "source": [
    "LOADING THE DATASET\n",
    "-"
   ]
  },
  {
   "cell_type": "code",
   "execution_count": 1,
   "id": "c50d78b8-e6f8-44ed-aea8-2619bbc1287b",
   "metadata": {},
   "outputs": [],
   "source": [
    "import pandas as pd"
   ]
  },
  {
   "cell_type": "code",
   "execution_count": 2,
   "id": "7a2c318f-6319-4f0b-a945-64d23cb48579",
   "metadata": {},
   "outputs": [],
   "source": [
    "data = pd.read_csv('cnn_dailymail/validation.csv')"
   ]
  },
  {
   "cell_type": "code",
   "execution_count": 3,
   "id": "7611a01a-2cea-49b8-a73b-b9bc7df3b8b0",
   "metadata": {},
   "outputs": [
    {
     "data": {
      "text/html": [
       "<div>\n",
       "<style scoped>\n",
       "    .dataframe tbody tr th:only-of-type {\n",
       "        vertical-align: middle;\n",
       "    }\n",
       "\n",
       "    .dataframe tbody tr th {\n",
       "        vertical-align: top;\n",
       "    }\n",
       "\n",
       "    .dataframe thead th {\n",
       "        text-align: right;\n",
       "    }\n",
       "</style>\n",
       "<table border=\"1\" class=\"dataframe\">\n",
       "  <thead>\n",
       "    <tr style=\"text-align: right;\">\n",
       "      <th></th>\n",
       "      <th>id</th>\n",
       "      <th>article</th>\n",
       "      <th>highlights</th>\n",
       "    </tr>\n",
       "  </thead>\n",
       "  <tbody>\n",
       "    <tr>\n",
       "      <th>0</th>\n",
       "      <td>61df4979ac5fcc2b71be46ed6fe5a46ce7f071c3</td>\n",
       "      <td>Sally Forrest, an actress-dancer who graced th...</td>\n",
       "      <td>Sally Forrest, an actress-dancer who graced th...</td>\n",
       "    </tr>\n",
       "    <tr>\n",
       "      <th>1</th>\n",
       "      <td>21c0bd69b7e7df285c3d1b1cf56d4da925980a68</td>\n",
       "      <td>A middle-school teacher in China has inked hun...</td>\n",
       "      <td>Works include pictures of Presidential Palace ...</td>\n",
       "    </tr>\n",
       "    <tr>\n",
       "      <th>2</th>\n",
       "      <td>56f340189cd128194b2e7cb8c26bb900e3a848b4</td>\n",
       "      <td>A man convicted of killing the father and sist...</td>\n",
       "      <td>Iftekhar Murtaza, 29, was convicted a year ago...</td>\n",
       "    </tr>\n",
       "    <tr>\n",
       "      <th>3</th>\n",
       "      <td>00a665151b89a53e5a08a389df8334f4106494c2</td>\n",
       "      <td>Avid rugby fan Prince Harry could barely watch...</td>\n",
       "      <td>Prince Harry in attendance for England's crunc...</td>\n",
       "    </tr>\n",
       "    <tr>\n",
       "      <th>4</th>\n",
       "      <td>9f6fbd3c497c4d28879bebebea220884f03eb41a</td>\n",
       "      <td>A Triple M Radio producer has been inundated w...</td>\n",
       "      <td>Nick Slater's colleagues uploaded a picture to...</td>\n",
       "    </tr>\n",
       "  </tbody>\n",
       "</table>\n",
       "</div>"
      ],
      "text/plain": [
       "                                         id  \\\n",
       "0  61df4979ac5fcc2b71be46ed6fe5a46ce7f071c3   \n",
       "1  21c0bd69b7e7df285c3d1b1cf56d4da925980a68   \n",
       "2  56f340189cd128194b2e7cb8c26bb900e3a848b4   \n",
       "3  00a665151b89a53e5a08a389df8334f4106494c2   \n",
       "4  9f6fbd3c497c4d28879bebebea220884f03eb41a   \n",
       "\n",
       "                                             article  \\\n",
       "0  Sally Forrest, an actress-dancer who graced th...   \n",
       "1  A middle-school teacher in China has inked hun...   \n",
       "2  A man convicted of killing the father and sist...   \n",
       "3  Avid rugby fan Prince Harry could barely watch...   \n",
       "4  A Triple M Radio producer has been inundated w...   \n",
       "\n",
       "                                          highlights  \n",
       "0  Sally Forrest, an actress-dancer who graced th...  \n",
       "1  Works include pictures of Presidential Palace ...  \n",
       "2  Iftekhar Murtaza, 29, was convicted a year ago...  \n",
       "3  Prince Harry in attendance for England's crunc...  \n",
       "4  Nick Slater's colleagues uploaded a picture to...  "
      ]
     },
     "execution_count": 3,
     "metadata": {},
     "output_type": "execute_result"
    }
   ],
   "source": [
    "data.head()"
   ]
  },
  {
   "cell_type": "code",
   "execution_count": 4,
   "id": "17ea51b0-336e-42ac-883d-55ed68d11f99",
   "metadata": {},
   "outputs": [],
   "source": [
    "data = data.drop(columns='id')"
   ]
  },
  {
   "cell_type": "code",
   "execution_count": 8,
   "id": "d46ff4b7-df34-4520-bbc0-8493f942855c",
   "metadata": {},
   "outputs": [
    {
     "data": {
      "text/plain": [
       "(13368, 2)"
      ]
     },
     "execution_count": 8,
     "metadata": {},
     "output_type": "execute_result"
    }
   ],
   "source": [
    "data.shape"
   ]
  },
  {
   "cell_type": "code",
   "execution_count": 5,
   "id": "67d81dfb-8306-4f3a-b094-cde02d43625f",
   "metadata": {},
   "outputs": [
    {
     "data": {
      "text/html": [
       "<div>\n",
       "<style scoped>\n",
       "    .dataframe tbody tr th:only-of-type {\n",
       "        vertical-align: middle;\n",
       "    }\n",
       "\n",
       "    .dataframe tbody tr th {\n",
       "        vertical-align: top;\n",
       "    }\n",
       "\n",
       "    .dataframe thead th {\n",
       "        text-align: right;\n",
       "    }\n",
       "</style>\n",
       "<table border=\"1\" class=\"dataframe\">\n",
       "  <thead>\n",
       "    <tr style=\"text-align: right;\">\n",
       "      <th></th>\n",
       "      <th>article</th>\n",
       "      <th>highlights</th>\n",
       "    </tr>\n",
       "  </thead>\n",
       "  <tbody>\n",
       "    <tr>\n",
       "      <th>0</th>\n",
       "      <td>Sally Forrest, an actress-dancer who graced th...</td>\n",
       "      <td>Sally Forrest, an actress-dancer who graced th...</td>\n",
       "    </tr>\n",
       "    <tr>\n",
       "      <th>1</th>\n",
       "      <td>A middle-school teacher in China has inked hun...</td>\n",
       "      <td>Works include pictures of Presidential Palace ...</td>\n",
       "    </tr>\n",
       "    <tr>\n",
       "      <th>2</th>\n",
       "      <td>A man convicted of killing the father and sist...</td>\n",
       "      <td>Iftekhar Murtaza, 29, was convicted a year ago...</td>\n",
       "    </tr>\n",
       "    <tr>\n",
       "      <th>3</th>\n",
       "      <td>Avid rugby fan Prince Harry could barely watch...</td>\n",
       "      <td>Prince Harry in attendance for England's crunc...</td>\n",
       "    </tr>\n",
       "    <tr>\n",
       "      <th>4</th>\n",
       "      <td>A Triple M Radio producer has been inundated w...</td>\n",
       "      <td>Nick Slater's colleagues uploaded a picture to...</td>\n",
       "    </tr>\n",
       "  </tbody>\n",
       "</table>\n",
       "</div>"
      ],
      "text/plain": [
       "                                             article  \\\n",
       "0  Sally Forrest, an actress-dancer who graced th...   \n",
       "1  A middle-school teacher in China has inked hun...   \n",
       "2  A man convicted of killing the father and sist...   \n",
       "3  Avid rugby fan Prince Harry could barely watch...   \n",
       "4  A Triple M Radio producer has been inundated w...   \n",
       "\n",
       "                                          highlights  \n",
       "0  Sally Forrest, an actress-dancer who graced th...  \n",
       "1  Works include pictures of Presidential Palace ...  \n",
       "2  Iftekhar Murtaza, 29, was convicted a year ago...  \n",
       "3  Prince Harry in attendance for England's crunc...  \n",
       "4  Nick Slater's colleagues uploaded a picture to...  "
      ]
     },
     "execution_count": 5,
     "metadata": {},
     "output_type": "execute_result"
    }
   ],
   "source": [
    "data.head()"
   ]
  },
  {
   "cell_type": "code",
   "execution_count": 6,
   "id": "a054d456-523d-423d-8d1a-0bb0deb017c6",
   "metadata": {},
   "outputs": [
    {
     "name": "stdout",
     "output_type": "stream",
     "text": [
      "ARTICLE:\n",
      " Sally Forrest, an actress-dancer who graced the silver screen throughout the '40s and '50s in MGM musicals and films such as the 1956 noir While the City Sleeps died on March 15 at her home in Beverly Hills, California. Forrest, whose birth name was Katherine Feeney, was 86 and had long battled cancer. Her publicist, Judith Goffin, announced the news Thursday. Scroll down for video . Actress: Sally Forrest was in the 1951 Ida Lupino-directed film 'Hard, Fast and Beautiful' (left) and the 1956 Fritz Lang movie 'While the City Sleeps' A San Diego native, Forrest became a protege of Hollywood trailblazer Ida Lupino, who cast her in starring roles in films including the critical and commercial success Not Wanted, Never Fear and Hard, Fast and Beautiful. Some of Forrest's other film credits included Bannerline, Son of Sinbad, and Excuse My Dust, according to her iMDB page. The page also indicates Forrest was in multiple Climax! and Rawhide television episodes. Forrest appeared as herself in an episode of The Ed Sullivan Show and three episodes of The Dinah Shore Chevy Show, her iMDB page says. She also starred in a Broadway production of The Seven Year Itch. City News Service reported that other stage credits included As You Like It, No, No, Nanette and Damn Yankees. Forrest married writer-producer Milo Frank in 1951. He died in 2004. She is survived by her niece, Sharon Durham, and nephews, Michael and Mark Feeney. Career: A San Diego native, Forrest became a protege of Hollywood trailblazer Ida Lupino, who cast her in starring roles in films .\n",
      "=====================================================================================================================================================\n",
      "Summary:\n",
      " Sally Forrest, an actress-dancer who graced the silver screen throughout the '40s and '50s in MGM musicals and films died on March 15 .\n",
      "Forrest, whose birth name was Katherine Feeney, had long battled cancer .\n",
      "A San Diego native, Forrest became a protege of Hollywood trailblazer Ida Lupino, who cast her in starring roles in films .\n"
     ]
    }
   ],
   "source": [
    "print('ARTICLE:\\n', data['article'][0])\n",
    "print('=====================================================================================================================================================')\n",
    "print('Summary:\\n', data['highlights'][0])"
   ]
  },
  {
   "cell_type": "markdown",
   "id": "856e875c-5519-4014-988a-1ca780d6ecaf",
   "metadata": {},
   "source": [
    "SPLITTING THE DATA INTO TRAIN DATA AND TEST DATA\n",
    "-"
   ]
  },
  {
   "cell_type": "code",
   "execution_count": 21,
   "id": "34dd5118-d5f8-4000-ba00-1018229b626f",
   "metadata": {},
   "outputs": [],
   "source": [
    "from sklearn.model_selection import train_test_split"
   ]
  },
  {
   "cell_type": "code",
   "execution_count": 22,
   "id": "b0f153ca-7664-4e25-b92c-982f953db9ae",
   "metadata": {},
   "outputs": [],
   "source": [
    "train_df, test_df = train_test_split(data, test_size=0.2, random_state=42)"
   ]
  },
  {
   "cell_type": "code",
   "execution_count": 29,
   "id": "ac0e7fa3-9c0e-4aae-9d00-af6cd34f9f0f",
   "metadata": {},
   "outputs": [
    {
     "name": "stdout",
     "output_type": "stream",
     "text": [
      "Train Data -------> 10694\n",
      "Test Data --------> 2674\n"
     ]
    }
   ],
   "source": [
    "print('Train Data ------->',len(train_df))\n",
    "print('Test Data -------->',len(test_df))"
   ]
  },
  {
   "cell_type": "code",
   "execution_count": 30,
   "id": "2d5c5759-5491-4474-acdc-f15421924e8f",
   "metadata": {},
   "outputs": [
    {
     "name": "stdout",
     "output_type": "stream",
     "text": [
      "Train Data -------> Index(['article', 'highlights'], dtype='object')\n",
      "Test Data --------> Index(['article', 'highlights'], dtype='object')\n"
     ]
    }
   ],
   "source": [
    "print('Train Data ------->',train_df.columns)\n",
    "print('Test Data -------->',test_df.columns)"
   ]
  },
  {
   "cell_type": "code",
   "execution_count": 31,
   "id": "b0e5769b-3364-4b1b-aa3d-69903c9cc200",
   "metadata": {},
   "outputs": [
    {
     "name": "stdout",
     "output_type": "stream",
     "text": [
      "Train Data missing values:\n",
      "article       0\n",
      "highlights    0\n",
      "dtype: int64\n",
      "-------------------------\n",
      "Test Data missing values:\n",
      "article       0\n",
      "highlights    0\n",
      "dtype: int64\n",
      "-------------------------\n"
     ]
    }
   ],
   "source": [
    "datasets = [train_df, test_df]\n",
    "dataset_names = ['Train Data', 'Test Data']\n",
    "for i,dataset in enumerate(datasets):\n",
    "    print(f'{dataset_names[i]} missing values:')\n",
    "    print(dataset.isnull().sum())\n",
    "    print('-------------------------')"
   ]
  },
  {
   "cell_type": "markdown",
   "id": "c9936831-7435-4043-97bc-c798e022206c",
   "metadata": {},
   "source": [
    "PRE-PROCESSING\n",
    "-"
   ]
  },
  {
   "cell_type": "markdown",
   "id": "7345d505-c856-40c4-b700-25f565f9ff58",
   "metadata": {},
   "source": [
    "Converting all the text into lower case letters"
   ]
  },
  {
   "cell_type": "code",
   "execution_count": 32,
   "id": "a55b8436-e797-4bcf-b077-be5843874fac",
   "metadata": {},
   "outputs": [],
   "source": [
    "train_df['article'] = train_df['article'].apply(lambda x: x.lower())\n",
    "train_df['highlights'] = train_df['highlights'].apply(lambda x: x.lower())"
   ]
  },
  {
   "cell_type": "code",
   "execution_count": 36,
   "id": "4d6812cf-c0fb-4a31-9baf-d2f049b804fd",
   "metadata": {},
   "outputs": [
    {
     "data": {
      "text/html": [
       "<div>\n",
       "<style scoped>\n",
       "    .dataframe tbody tr th:only-of-type {\n",
       "        vertical-align: middle;\n",
       "    }\n",
       "\n",
       "    .dataframe tbody tr th {\n",
       "        vertical-align: top;\n",
       "    }\n",
       "\n",
       "    .dataframe thead th {\n",
       "        text-align: right;\n",
       "    }\n",
       "</style>\n",
       "<table border=\"1\" class=\"dataframe\">\n",
       "  <thead>\n",
       "    <tr style=\"text-align: right;\">\n",
       "      <th></th>\n",
       "      <th>article</th>\n",
       "      <th>highlights</th>\n",
       "    </tr>\n",
       "  </thead>\n",
       "  <tbody>\n",
       "    <tr>\n",
       "      <th>5537</th>\n",
       "      <td>father-of-four imran sharif admitted brutally ...</td>\n",
       "      <td>imran sharif had brutally killed his wife rahe...</td>\n",
       "    </tr>\n",
       "    <tr>\n",
       "      <th>7608</th>\n",
       "      <td>real madrid full back marcelo has described is...</td>\n",
       "      <td>marcelo praises 22-year-old midfielder in talk...</td>\n",
       "    </tr>\n",
       "    <tr>\n",
       "      <th>426</th>\n",
       "      <td>(cnn)in fairy tales, it's usually the princess...</td>\n",
       "      <td>parisa tabriz is the 31-year-old computer whiz...</td>\n",
       "    </tr>\n",
       "    <tr>\n",
       "      <th>621</th>\n",
       "      <td>(cnn)following last year's successful u.k. tou...</td>\n",
       "      <td>it will be a first time for the tour stateside...</td>\n",
       "    </tr>\n",
       "    <tr>\n",
       "      <th>2094</th>\n",
       "      <td>a hapless vietnamese pair caught running a £10...</td>\n",
       "      <td>chien nguyen, 32, and hieu nguyen, 35, admitte...</td>\n",
       "    </tr>\n",
       "  </tbody>\n",
       "</table>\n",
       "</div>"
      ],
      "text/plain": [
       "                                                article  \\\n",
       "5537  father-of-four imran sharif admitted brutally ...   \n",
       "7608  real madrid full back marcelo has described is...   \n",
       "426   (cnn)in fairy tales, it's usually the princess...   \n",
       "621   (cnn)following last year's successful u.k. tou...   \n",
       "2094  a hapless vietnamese pair caught running a £10...   \n",
       "\n",
       "                                             highlights  \n",
       "5537  imran sharif had brutally killed his wife rahe...  \n",
       "7608  marcelo praises 22-year-old midfielder in talk...  \n",
       "426   parisa tabriz is the 31-year-old computer whiz...  \n",
       "621   it will be a first time for the tour stateside...  \n",
       "2094  chien nguyen, 32, and hieu nguyen, 35, admitte...  "
      ]
     },
     "execution_count": 36,
     "metadata": {},
     "output_type": "execute_result"
    }
   ],
   "source": [
    "train_df.head()"
   ]
  },
  {
   "cell_type": "markdown",
   "id": "09eb1b6a-5f77-4039-b10d-2db685e6517d",
   "metadata": {},
   "source": [
    "Expanding the contractions ( eg: don't is converted to do not )"
   ]
  },
  {
   "cell_type": "code",
   "execution_count": 37,
   "id": "fa7699b1-69c0-4b18-a867-5e6ebbd0a191",
   "metadata": {},
   "outputs": [],
   "source": [
    "import contractions\n",
    "def expand_contractions(text):\n",
    "    expanded_text = contractions.fix(text)\n",
    "    return expanded_text\n",
    "\n",
    "train_df['article'] = train_df['article'].apply(expand_contractions)\n",
    "train_df['highlights'] = train_df['highlights'].apply(expand_contractions)"
   ]
  },
  {
   "cell_type": "markdown",
   "id": "c7f338d9-685c-490c-9b6d-8a5cb0b3d852",
   "metadata": {},
   "source": [
    "Removing Numbers, Special Characters and Punctuations"
   ]
  },
  {
   "cell_type": "code",
   "execution_count": 39,
   "id": "3e4846f1-c5cc-49c7-be79-2242636708ca",
   "metadata": {},
   "outputs": [],
   "source": [
    "import re\n",
    "\n",
    "def clean_text(text):\n",
    "    # numbers\n",
    "    text = re.sub(r'\\d+', '', text)\n",
    "    # Removing special characters and punctuation\n",
    "    text = re.sub(r'[^\\w\\s]', '', text)\n",
    "    # Removing extra spaces\n",
    "    text = re.sub(r'\\s+', ' ', text).strip()\n",
    "    return text\n",
    "\n",
    "train_df['article'] = train_df['article'].apply(clean_text)\n",
    "train_df['highlights'] = train_df['highlights'].apply(clean_text)"
   ]
  },
  {
   "cell_type": "code",
   "execution_count": 40,
   "id": "82d37d1b-fcc7-4942-970c-7e03afbbda8f",
   "metadata": {},
   "outputs": [
    {
     "data": {
      "text/html": [
       "<div>\n",
       "<style scoped>\n",
       "    .dataframe tbody tr th:only-of-type {\n",
       "        vertical-align: middle;\n",
       "    }\n",
       "\n",
       "    .dataframe tbody tr th {\n",
       "        vertical-align: top;\n",
       "    }\n",
       "\n",
       "    .dataframe thead th {\n",
       "        text-align: right;\n",
       "    }\n",
       "</style>\n",
       "<table border=\"1\" class=\"dataframe\">\n",
       "  <thead>\n",
       "    <tr style=\"text-align: right;\">\n",
       "      <th></th>\n",
       "      <th>article</th>\n",
       "      <th>highlights</th>\n",
       "    </tr>\n",
       "  </thead>\n",
       "  <tbody>\n",
       "    <tr>\n",
       "      <th>5537</th>\n",
       "      <td>fatheroffour imran sharif admitted brutally mu...</td>\n",
       "      <td>imran sharif had brutally killed his wife rahe...</td>\n",
       "    </tr>\n",
       "    <tr>\n",
       "      <th>7608</th>\n",
       "      <td>real madrid full back marcelo has described is...</td>\n",
       "      <td>marcelo praises yearold midfielder in talk to ...</td>\n",
       "    </tr>\n",
       "    <tr>\n",
       "      <th>426</th>\n",
       "      <td>cnnin fairy tales it is usually the princess t...</td>\n",
       "      <td>parisa tabriz is the yearold computer whizz pa...</td>\n",
       "    </tr>\n",
       "    <tr>\n",
       "      <th>621</th>\n",
       "      <td>cnnfollowing last years successful youk tour p...</td>\n",
       "      <td>it will be a first time for the tour stateside...</td>\n",
       "    </tr>\n",
       "    <tr>\n",
       "      <th>2094</th>\n",
       "      <td>a hapless vietnamese pair caught running a can...</td>\n",
       "      <td>chien nguyen and hieu nguyen admitted cultivat...</td>\n",
       "    </tr>\n",
       "  </tbody>\n",
       "</table>\n",
       "</div>"
      ],
      "text/plain": [
       "                                                article  \\\n",
       "5537  fatheroffour imran sharif admitted brutally mu...   \n",
       "7608  real madrid full back marcelo has described is...   \n",
       "426   cnnin fairy tales it is usually the princess t...   \n",
       "621   cnnfollowing last years successful youk tour p...   \n",
       "2094  a hapless vietnamese pair caught running a can...   \n",
       "\n",
       "                                             highlights  \n",
       "5537  imran sharif had brutally killed his wife rahe...  \n",
       "7608  marcelo praises yearold midfielder in talk to ...  \n",
       "426   parisa tabriz is the yearold computer whizz pa...  \n",
       "621   it will be a first time for the tour stateside...  \n",
       "2094  chien nguyen and hieu nguyen admitted cultivat...  "
      ]
     },
     "execution_count": 40,
     "metadata": {},
     "output_type": "execute_result"
    }
   ],
   "source": [
    "train_df.head()"
   ]
  },
  {
   "cell_type": "markdown",
   "id": "4de2dc2e-bdf0-4d84-89a5-7c577d66ec99",
   "metadata": {},
   "source": [
    "Tokenization"
   ]
  },
  {
   "cell_type": "code",
   "execution_count": 55,
   "id": "cda37daf-f93e-4571-abc9-bbf7123130d6",
   "metadata": {},
   "outputs": [
    {
     "name": "stderr",
     "output_type": "stream",
     "text": [
      "[nltk_data] Downloading package punkt to\n",
      "[nltk_data]     C:\\Users\\sivaa\\AppData\\Roaming\\nltk_data...\n",
      "[nltk_data]   Package punkt is already up-to-date!\n"
     ]
    }
   ],
   "source": [
    "import nltk\n",
    "from nltk.tokenize import word_tokenize\n",
    "\n",
    "nltk.download('punkt')\n",
    "\n",
    "train_df['article'] = train_df['article'].apply(word_tokenize)\n",
    "train_df['highlights'] = train_df['highlights'].apply(word_tokenize)\n"
   ]
  },
  {
   "cell_type": "code",
   "execution_count": 56,
   "id": "d702fd8a-f443-49a0-9856-406dc42af7f6",
   "metadata": {},
   "outputs": [
    {
     "data": {
      "text/html": [
       "<div>\n",
       "<style scoped>\n",
       "    .dataframe tbody tr th:only-of-type {\n",
       "        vertical-align: middle;\n",
       "    }\n",
       "\n",
       "    .dataframe tbody tr th {\n",
       "        vertical-align: top;\n",
       "    }\n",
       "\n",
       "    .dataframe thead th {\n",
       "        text-align: right;\n",
       "    }\n",
       "</style>\n",
       "<table border=\"1\" class=\"dataframe\">\n",
       "  <thead>\n",
       "    <tr style=\"text-align: right;\">\n",
       "      <th></th>\n",
       "      <th>article</th>\n",
       "      <th>highlights</th>\n",
       "    </tr>\n",
       "  </thead>\n",
       "  <tbody>\n",
       "    <tr>\n",
       "      <th>5537</th>\n",
       "      <td>[fatheroffour, imran, sharif, admitted, brutal...</td>\n",
       "      <td>[imran, sharif, had, brutally, killed, his, wi...</td>\n",
       "    </tr>\n",
       "    <tr>\n",
       "      <th>7608</th>\n",
       "      <td>[real, madrid, full, back, marcelo, has, descr...</td>\n",
       "      <td>[marcelo, praises, yearold, midfielder, in, ta...</td>\n",
       "    </tr>\n",
       "    <tr>\n",
       "      <th>426</th>\n",
       "      <td>[cnnin, fairy, tales, it, is, usually, the, pr...</td>\n",
       "      <td>[parisa, tabriz, is, the, yearold, computer, w...</td>\n",
       "    </tr>\n",
       "    <tr>\n",
       "      <th>621</th>\n",
       "      <td>[cnnfollowing, last, years, successful, youk, ...</td>\n",
       "      <td>[it, will, be, a, first, time, for, the, tour,...</td>\n",
       "    </tr>\n",
       "    <tr>\n",
       "      <th>2094</th>\n",
       "      <td>[a, hapless, vietnamese, pair, caught, running...</td>\n",
       "      <td>[chien, nguyen, and, hieu, nguyen, admitted, c...</td>\n",
       "    </tr>\n",
       "  </tbody>\n",
       "</table>\n",
       "</div>"
      ],
      "text/plain": [
       "                                                article  \\\n",
       "5537  [fatheroffour, imran, sharif, admitted, brutal...   \n",
       "7608  [real, madrid, full, back, marcelo, has, descr...   \n",
       "426   [cnnin, fairy, tales, it, is, usually, the, pr...   \n",
       "621   [cnnfollowing, last, years, successful, youk, ...   \n",
       "2094  [a, hapless, vietnamese, pair, caught, running...   \n",
       "\n",
       "                                             highlights  \n",
       "5537  [imran, sharif, had, brutally, killed, his, wi...  \n",
       "7608  [marcelo, praises, yearold, midfielder, in, ta...  \n",
       "426   [parisa, tabriz, is, the, yearold, computer, w...  \n",
       "621   [it, will, be, a, first, time, for, the, tour,...  \n",
       "2094  [chien, nguyen, and, hieu, nguyen, admitted, c...  "
      ]
     },
     "execution_count": 56,
     "metadata": {},
     "output_type": "execute_result"
    }
   ],
   "source": [
    "train_df.head()"
   ]
  },
  {
   "cell_type": "code",
   "execution_count": 63,
   "id": "5c9a063e-a554-4a3c-a2ae-800a69d6ea58",
   "metadata": {},
   "outputs": [
    {
     "data": {
      "text/plain": [
       "['imran',\n",
       " 'sharif',\n",
       " 'had',\n",
       " 'brutally',\n",
       " 'killed',\n",
       " 'his',\n",
       " 'wife',\n",
       " 'raheela',\n",
       " 'imrans',\n",
       " 'at',\n",
       " 'their',\n",
       " 'home',\n",
       " 'court',\n",
       " 'heard',\n",
       " 'the',\n",
       " 'yearold',\n",
       " 'then',\n",
       " 'got',\n",
       " 'changed',\n",
       " 'and',\n",
       " 'calmly',\n",
       " 'went',\n",
       " 'to',\n",
       " 'work',\n",
       " 'sharif',\n",
       " 'has',\n",
       " 'denied',\n",
       " 'slitting',\n",
       " 'his',\n",
       " 'spouses',\n",
       " 'throat',\n",
       " 'but',\n",
       " 'later',\n",
       " 'confessed',\n",
       " 'to',\n",
       " 'a',\n",
       " 'friend',\n",
       " 'he',\n",
       " 'has',\n",
       " 'been',\n",
       " 'remanded',\n",
       " 'in',\n",
       " 'custody',\n",
       " 'for',\n",
       " 'sentencing',\n",
       " 'and',\n",
       " 'could',\n",
       " 'face',\n",
       " 'life',\n",
       " 'in',\n",
       " 'jail']"
      ]
     },
     "execution_count": 63,
     "metadata": {},
     "output_type": "execute_result"
    }
   ],
   "source": [
    "train_df['highlights'][5537]"
   ]
  },
  {
   "cell_type": "markdown",
   "id": "ace6e392-51e6-4815-a522-1bfa92fc4480",
   "metadata": {},
   "source": [
    "Stop Words Removing"
   ]
  },
  {
   "cell_type": "code",
   "execution_count": 64,
   "id": "073bed6b-75ba-4a95-936d-9314c10dbcd6",
   "metadata": {},
   "outputs": [
    {
     "data": {
      "text/plain": [
       "665"
      ]
     },
     "execution_count": 64,
     "metadata": {},
     "output_type": "execute_result"
    }
   ],
   "source": [
    "len(train_df['article'][5537])"
   ]
  },
  {
   "cell_type": "code",
   "execution_count": 65,
   "id": "0ea49ed3-f842-46eb-931f-9c0bef9959f0",
   "metadata": {},
   "outputs": [
    {
     "name": "stderr",
     "output_type": "stream",
     "text": [
      "[nltk_data] Downloading package stopwords to\n",
      "[nltk_data]     C:\\Users\\sivaa\\AppData\\Roaming\\nltk_data...\n",
      "[nltk_data]   Unzipping corpora\\stopwords.zip.\n"
     ]
    }
   ],
   "source": [
    "import nltk\n",
    "from nltk.corpus import stopwords\n",
    "\n",
    "nltk.download('stopwords')\n",
    "\n",
    "stop_words = set(stopwords.words('english'))\n",
    "\n",
    "train_df['article'] = train_df['article'].apply(lambda tokens: [word for word in tokens if word.lower() not in stop_words])\n",
    "train_df['highlights'] = train_df['highlights'].apply(lambda tokens: [word for word in tokens if word.lower() not in stop_words])\n"
   ]
  },
  {
   "cell_type": "code",
   "execution_count": 66,
   "id": "5708352f-8169-453b-80a6-cdcfc047abba",
   "metadata": {},
   "outputs": [
    {
     "data": {
      "text/plain": [
       "369"
      ]
     },
     "execution_count": 66,
     "metadata": {},
     "output_type": "execute_result"
    }
   ],
   "source": [
    "len(train_df['article'][5537])"
   ]
  },
  {
   "cell_type": "code",
   "execution_count": 71,
   "id": "cbf4e565-76e5-43cf-8be7-2ee619977597",
   "metadata": {},
   "outputs": [
    {
     "data": {
      "text/plain": [
       "31"
      ]
     },
     "execution_count": 71,
     "metadata": {},
     "output_type": "execute_result"
    }
   ],
   "source": [
    "len(train_df['highlights'][5537])"
   ]
  },
  {
   "cell_type": "code",
   "execution_count": null,
   "id": "15d2ff12-7cb5-430f-ad89-64477e935b3a",
   "metadata": {},
   "outputs": [],
   "source": []
  }
 ],
 "metadata": {
  "kernelspec": {
   "display_name": "Python 3 (ipykernel)",
   "language": "python",
   "name": "python3"
  },
  "language_info": {
   "codemirror_mode": {
    "name": "ipython",
    "version": 3
   },
   "file_extension": ".py",
   "mimetype": "text/x-python",
   "name": "python",
   "nbconvert_exporter": "python",
   "pygments_lexer": "ipython3",
   "version": "3.10.11"
  }
 },
 "nbformat": 4,
 "nbformat_minor": 5
}
