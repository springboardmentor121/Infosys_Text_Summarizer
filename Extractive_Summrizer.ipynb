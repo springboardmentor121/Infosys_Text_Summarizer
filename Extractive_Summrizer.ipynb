{
  "nbformat": 4,
  "nbformat_minor": 0,
  "metadata": {
    "colab": {
      "provenance": [],
      "gpuType": "T4"
    },
    "kernelspec": {
      "name": "python3",
      "display_name": "Python 3"
    },
    "language_info": {
      "name": "python"
    },
    "accelerator": "GPU"
  },
  "cells": [
    {
      "cell_type": "code",
      "source": [
        "import re\n",
        "import spacy as sp\n",
        "import nltk"
      ],
      "metadata": {
        "id": "9WaQkBpezIC0"
      },
      "execution_count": 1,
      "outputs": []
    },
    {
      "cell_type": "code",
      "source": [
        "text = ''' Mahesh Babu, born on August 9, 1975, in Chennai, India, is one of the most prominent actors in the Telugu film industry. He is the son of veteran actor Krishna Ghattamaneni and Indira Devi. Mahesh Babu made his acting debut as a child artist in 1979 with the film \"Needa,\" and his first leading role came in the 1999 movie \"Raja Kumarudu,\" which earned him the Nandi Award for Best Male Debut.\n",
        "\n",
        "Over the years, Mahesh Babu has established himself as a leading actor, known for his versatility and charm. Some of his most notable films include \"Murari\" (2001), \"Okkadu\" (2003), \"Pokiri\" (2006), \"Dookudu\" (2011), \"Srimanthudu\" (2015), and \"Bharat Ane Nenu\" (2018). His performance in these films has earned him numerous accolades, including several Nandi Awards, Filmfare Awards, and a SIIMA Award.\n",
        "\n",
        "Mahesh Babu's film \"Pokiri\" was a major breakthrough, becoming one of the highest-grossing Telugu films at the time and solidifying his status as a superstar. He is known for his action-packed roles as well as his ability to portray emotional characters, making him a favorite among a wide range of audiences.\n",
        "\n",
        "In addition to his acting career, Mahesh Babu is also a successful producer and philanthropist. He owns the production house G. Mahesh Babu Entertainment Pvt. Ltd. and has been actively involved in various charitable activities. Through his philanthropic foundation, Mahesh Babu has supported initiatives in education, health, and rural development.\n",
        "\n",
        "Mahesh Babu is married to former actress Namrata Shirodkar, and the couple has two children, Gautham Krishna and Sitara. Despite his busy schedule, he is known to maintain a balance between his professional and personal life.\n",
        "\n",
        "With a career spanning over two decades, Mahesh Babu continues to be a dominant force in the Telugu film industry, consistently delivering box-office hits and captivating performances. His dedication to his craft and his contributions to society make him a revered figure both on and off the screen.\n",
        "\n",
        "'''"
      ],
      "metadata": {
        "id": "wHbxZaZlxx-t"
      },
      "execution_count": 2,
      "outputs": []
    },
    {
      "cell_type": "code",
      "source": [
        "print(\"The Length of text is:\",len(text))"
      ],
      "metadata": {
        "colab": {
          "base_uri": "https://localhost:8080/"
        },
        "id": "nZNyvCgozqkt",
        "outputId": "8f525436-126b-4854-dbdf-8cefdf309926"
      },
      "execution_count": 3,
      "outputs": [
        {
          "output_type": "stream",
          "name": "stdout",
          "text": [
            "The Length of text is: 1990\n"
          ]
        }
      ]
    },
    {
      "cell_type": "code",
      "source": [
        "text = re.sub(r'\\([^)]*\\)', ' ', text)   # Removing the (inside matter)\n",
        "text = re.sub(r'\\[[^\\]]*\\]', ' ', text)  # Removing the [inside matter]\n",
        "text = re.sub(r' +', ' ', text)          # Removing Extra Spaces\n",
        "text = re.sub(r'\"', '', text)\n",
        "print(text)"
      ],
      "metadata": {
        "colab": {
          "base_uri": "https://localhost:8080/"
        },
        "id": "NcUtqhY1y5Us",
        "outputId": "191306dc-ad8a-4ea6-b2d6-600ec6e25e48"
      },
      "execution_count": 4,
      "outputs": [
        {
          "output_type": "stream",
          "name": "stdout",
          "text": [
            " Mahesh Babu, born on August 9, 1975, in Chennai, India, is one of the most prominent actors in the Telugu film industry. He is the son of veteran actor Krishna Ghattamaneni and Indira Devi. Mahesh Babu made his acting debut as a child artist in 1979 with the film Needa, and his first leading role came in the 1999 movie Raja Kumarudu, which earned him the Nandi Award for Best Male Debut.\n",
            "\n",
            "Over the years, Mahesh Babu has established himself as a leading actor, known for his versatility and charm. Some of his most notable films include Murari , Okkadu , Pokiri , Dookudu , Srimanthudu , and Bharat Ane Nenu . His performance in these films has earned him numerous accolades, including several Nandi Awards, Filmfare Awards, and a SIIMA Award.\n",
            "\n",
            "Mahesh Babu's film Pokiri was a major breakthrough, becoming one of the highest-grossing Telugu films at the time and solidifying his status as a superstar. He is known for his action-packed roles as well as his ability to portray emotional characters, making him a favorite among a wide range of audiences.\n",
            "\n",
            "In addition to his acting career, Mahesh Babu is also a successful producer and philanthropist. He owns the production house G. Mahesh Babu Entertainment Pvt. Ltd. and has been actively involved in various charitable activities. Through his philanthropic foundation, Mahesh Babu has supported initiatives in education, health, and rural development.\n",
            "\n",
            "Mahesh Babu is married to former actress Namrata Shirodkar, and the couple has two children, Gautham Krishna and Sitara. Despite his busy schedule, he is known to maintain a balance between his professional and personal life.\n",
            "\n",
            "With a career spanning over two decades, Mahesh Babu continues to be a dominant force in the Telugu film industry, consistently delivering box-office hits and captivating performances. His dedication to his craft and his contributions to society make him a revered figure both on and off the screen.\n",
            "\n",
            "\n"
          ]
        }
      ]
    },
    {
      "cell_type": "code",
      "source": [
        "print(\"The Length of text is:\",len(text))"
      ],
      "metadata": {
        "colab": {
          "base_uri": "https://localhost:8080/"
        },
        "id": "yBYFvACgy_50",
        "outputId": "5fd81f44-578f-499f-b264-1d4653224182"
      },
      "execution_count": 5,
      "outputs": [
        {
          "output_type": "stream",
          "name": "stdout",
          "text": [
            "The Length of text is: 1936\n"
          ]
        }
      ]
    },
    {
      "cell_type": "code",
      "source": [
        "nlp = sp.load(\"en_core_web_sm\")\n",
        "\n",
        "nltk.download('punkt')\n",
        "original_sentences = nltk.sent_tokenize(text)"
      ],
      "metadata": {
        "colab": {
          "base_uri": "https://localhost:8080/"
        },
        "id": "2mANNdGhzjBP",
        "outputId": "e1f48a2f-d8cd-492e-e1b9-82d3cc41bb6c"
      },
      "execution_count": 6,
      "outputs": [
        {
          "output_type": "stream",
          "name": "stderr",
          "text": [
            "[nltk_data] Downloading package punkt to /root/nltk_data...\n",
            "[nltk_data]   Unzipping tokenizers/punkt.zip.\n"
          ]
        }
      ]
    },
    {
      "cell_type": "code",
      "source": [
        "original_sentences"
      ],
      "metadata": {
        "colab": {
          "base_uri": "https://localhost:8080/"
        },
        "id": "mxE0oTOB06wa",
        "outputId": "f9740d76-10a4-446a-f99f-a12222a0b651"
      },
      "execution_count": 7,
      "outputs": [
        {
          "output_type": "execute_result",
          "data": {
            "text/plain": [
              "[' Mahesh Babu, born on August 9, 1975, in Chennai, India, is one of the most prominent actors in the Telugu film industry.',\n",
              " 'He is the son of veteran actor Krishna Ghattamaneni and Indira Devi.',\n",
              " 'Mahesh Babu made his acting debut as a child artist in 1979 with the film Needa, and his first leading role came in the 1999 movie Raja Kumarudu, which earned him the Nandi Award for Best Male Debut.',\n",
              " 'Over the years, Mahesh Babu has established himself as a leading actor, known for his versatility and charm.',\n",
              " 'Some of his most notable films include Murari , Okkadu , Pokiri , Dookudu , Srimanthudu , and Bharat Ane Nenu .',\n",
              " 'His performance in these films has earned him numerous accolades, including several Nandi Awards, Filmfare Awards, and a SIIMA Award.',\n",
              " \"Mahesh Babu's film Pokiri was a major breakthrough, becoming one of the highest-grossing Telugu films at the time and solidifying his status as a superstar.\",\n",
              " 'He is known for his action-packed roles as well as his ability to portray emotional characters, making him a favorite among a wide range of audiences.',\n",
              " 'In addition to his acting career, Mahesh Babu is also a successful producer and philanthropist.',\n",
              " 'He owns the production house G. Mahesh Babu Entertainment Pvt.',\n",
              " 'Ltd. and has been actively involved in various charitable activities.',\n",
              " 'Through his philanthropic foundation, Mahesh Babu has supported initiatives in education, health, and rural development.',\n",
              " 'Mahesh Babu is married to former actress Namrata Shirodkar, and the couple has two children, Gautham Krishna and Sitara.',\n",
              " 'Despite his busy schedule, he is known to maintain a balance between his professional and personal life.',\n",
              " 'With a career spanning over two decades, Mahesh Babu continues to be a dominant force in the Telugu film industry, consistently delivering box-office hits and captivating performances.',\n",
              " 'His dedication to his craft and his contributions to society make him a revered figure both on and off the screen.']"
            ]
          },
          "metadata": {},
          "execution_count": 7
        }
      ]
    },
    {
      "cell_type": "markdown",
      "source": [
        "#Pre-Processing"
      ],
      "metadata": {
        "id": "GbWv2lkP5TbE"
      }
    },
    {
      "cell_type": "code",
      "source": [
        "def preprocess(sentences):\n",
        "\n",
        "  preprocessed_sentences = []\n",
        "\n",
        "  for sentence in sentences:\n",
        "    doc = nlp(sentence)\n",
        "    extracted_words = [token.lemma_ for token in doc if not token.is_stop and token.is_alpha]\n",
        "    preprocessed_sentences.append(\" \".join(extracted_words))\n",
        "  return preprocessed_sentences"
      ],
      "metadata": {
        "id": "lmcv-7gp1UGL"
      },
      "execution_count": 8,
      "outputs": []
    },
    {
      "cell_type": "code",
      "source": [
        "preprocessed_sentences = preprocess(original_sentences)\n",
        "preprocessed_sentences"
      ],
      "metadata": {
        "colab": {
          "base_uri": "https://localhost:8080/"
        },
        "id": "A9dFGH_e2fJx",
        "outputId": "fc4ad8c3-8e55-412b-81de-735e3a0847a7"
      },
      "execution_count": 9,
      "outputs": [
        {
          "output_type": "execute_result",
          "data": {
            "text/plain": [
              "['Mahesh Babu bear August Chennai India prominent actor Telugu film industry',\n",
              " 'son veteran actor Krishna Ghattamaneni Indira Devi',\n",
              " 'Mahesh Babu acting debut child artist film Needa leading role come movie Raja Kumarudu earn Nandi Award Best Male Debut',\n",
              " 'year Mahesh Babu establish lead actor know versatility charm',\n",
              " 'notable film include Murari Okkadu Pokiri Dookudu Srimanthudu Bharat Ane Nenu',\n",
              " 'performance film earn numerous accolade include Nandi Awards Filmfare Awards SIIMA Award',\n",
              " 'Mahesh Babu film Pokiri major breakthrough highest gross telugu film time solidify status superstar',\n",
              " 'know action pack role ability portray emotional character make favorite wide range audience',\n",
              " 'addition act career Mahesh Babu successful producer philanthropist',\n",
              " 'own production house Mahesh Babu Entertainment Pvt',\n",
              " 'actively involve charitable activity',\n",
              " 'philanthropic foundation Mahesh Babu support initiative education health rural development',\n",
              " 'Mahesh Babu married actress Namrata Shirodkar couple child Gautham Krishna Sitara',\n",
              " 'despite busy schedule know maintain balance professional personal life',\n",
              " 'career span decade Mahesh Babu continue dominant force Telugu film industry consistently deliver box office hit captivate performance',\n",
              " 'dedication craft contribution society revere figure screen']"
            ]
          },
          "metadata": {},
          "execution_count": 9
        }
      ]
    },
    {
      "cell_type": "markdown",
      "source": [
        "#TF-IDF (Term Frequency-Inverse Document Frequency)\n",
        "\n",
        "\n",
        "\n",
        "\n"
      ],
      "metadata": {
        "id": "gMkFbySr5Pg5"
      }
    },
    {
      "cell_type": "code",
      "source": [
        "from sklearn.feature_extraction.text import TfidfVectorizer"
      ],
      "metadata": {
        "id": "UV6J8i552uHA"
      },
      "execution_count": 10,
      "outputs": []
    },
    {
      "cell_type": "code",
      "source": [
        "vectorizer = TfidfVectorizer()\n",
        "matrix  = vectorizer.fit_transform(preprocessed_sentences)"
      ],
      "metadata": {
        "id": "CFMT-DPT4Rn-"
      },
      "execution_count": 11,
      "outputs": []
    },
    {
      "cell_type": "code",
      "source": [
        "matrix   # we can see that 16x130: 16 rows and 130 columns in the matrix"
      ],
      "metadata": {
        "colab": {
          "base_uri": "https://localhost:8080/"
        },
        "id": "b86LkRdT4Ue1",
        "outputId": "3a43ade9-da42-4c32-ceda-708f9ed0b62c"
      },
      "execution_count": 12,
      "outputs": [
        {
          "output_type": "execute_result",
          "data": {
            "text/plain": [
              "<16x130 sparse matrix of type '<class 'numpy.float64'>'\n",
              "\twith 168 stored elements in Compressed Sparse Row format>"
            ]
          },
          "metadata": {},
          "execution_count": 12
        }
      ]
    },
    {
      "cell_type": "code",
      "source": [
        "print(matrix[0].toarray())"
      ],
      "metadata": {
        "colab": {
          "base_uri": "https://localhost:8080/"
        },
        "id": "Jf31N-et-jxP",
        "outputId": "896bfe42-6ef7-4b7d-a411-adbe4965c21f"
      },
      "execution_count": 13,
      "outputs": [
        {
          "output_type": "stream",
          "name": "stdout",
          "text": [
            "[[0.         0.         0.         0.         0.         0.\n",
            "  0.         0.27885138 0.         0.         0.         0.\n",
            "  0.         0.35784258 0.         0.         0.17443071 0.\n",
            "  0.35784258 0.         0.         0.         0.         0.\n",
            "  0.         0.         0.         0.         0.         0.35784258\n",
            "  0.         0.         0.         0.         0.         0.\n",
            "  0.         0.         0.         0.         0.         0.\n",
            "  0.         0.         0.         0.         0.         0.\n",
            "  0.         0.         0.         0.         0.         0.21507746\n",
            "  0.         0.         0.         0.         0.         0.\n",
            "  0.         0.         0.         0.         0.         0.35784258\n",
            "  0.         0.31163569 0.         0.         0.         0.\n",
            "  0.         0.         0.         0.         0.17443071 0.\n",
            "  0.         0.         0.         0.         0.         0.\n",
            "  0.         0.         0.         0.         0.         0.\n",
            "  0.         0.         0.         0.         0.         0.\n",
            "  0.         0.         0.         0.         0.         0.\n",
            "  0.         0.35784258 0.         0.         0.         0.\n",
            "  0.         0.         0.         0.         0.         0.\n",
            "  0.         0.         0.         0.         0.         0.\n",
            "  0.         0.         0.         0.         0.27885138 0.\n",
            "  0.         0.         0.         0.        ]]\n"
          ]
        }
      ]
    },
    {
      "cell_type": "code",
      "source": [
        "len(matrix.toarray()[0])"
      ],
      "metadata": {
        "colab": {
          "base_uri": "https://localhost:8080/"
        },
        "id": "xPalL3e__K2-",
        "outputId": "0ed69855-e607-49a8-81af-6c9bb0678456"
      },
      "execution_count": 14,
      "outputs": [
        {
          "output_type": "execute_result",
          "data": {
            "text/plain": [
              "130"
            ]
          },
          "metadata": {},
          "execution_count": 14
        }
      ]
    },
    {
      "cell_type": "code",
      "source": [
        "len(vectorizer.vocabulary_)"
      ],
      "metadata": {
        "colab": {
          "base_uri": "https://localhost:8080/"
        },
        "id": "ZNPQ0OoJ_uJc",
        "outputId": "c74433f0-8a31-44c5-c5e9-eb6aa76e0838"
      },
      "execution_count": 15,
      "outputs": [
        {
          "output_type": "execute_result",
          "data": {
            "text/plain": [
              "130"
            ]
          },
          "metadata": {},
          "execution_count": 15
        }
      ]
    },
    {
      "cell_type": "code",
      "source": [
        "print(matrix[15])"
      ],
      "metadata": {
        "colab": {
          "base_uri": "https://localhost:8080/"
        },
        "id": "hW5VNNaU4V0T",
        "outputId": "e36422f7-8825-412a-e630-963ec8d8e804"
      },
      "execution_count": 16,
      "outputs": [
        {
          "output_type": "stream",
          "name": "stdout",
          "text": [
            "  (0, 111)\t0.37796447300922725\n",
            "  (0, 52)\t0.37796447300922725\n",
            "  (0, 107)\t0.37796447300922725\n",
            "  (0, 115)\t0.37796447300922725\n",
            "  (0, 34)\t0.37796447300922725\n",
            "  (0, 36)\t0.37796447300922725\n",
            "  (0, 39)\t0.37796447300922725\n"
          ]
        }
      ]
    },
    {
      "cell_type": "code",
      "source": [
        "sum_scores = matrix.toarray().sum(axis = 1)\n",
        "sum_scores"
      ],
      "metadata": {
        "colab": {
          "base_uri": "https://localhost:8080/"
        },
        "id": "RMTNgaj68wdT",
        "outputId": "9b067417-73b2-467d-eb07-135f31dd0b24"
      },
      "execution_count": 17,
      "outputs": [
        {
          "output_type": "execute_result",
          "data": {
            "text/plain": [
              "array([3.22249022, 2.63577527, 4.15430168, 2.91265222, 3.29079686,\n",
              "       3.14253764, 3.52055485, 3.59738003, 2.74190166, 2.55346622,\n",
              "       2.        , 3.08286353, 3.24031296, 2.9924422 , 4.16204629,\n",
              "       2.64575131])"
            ]
          },
          "metadata": {},
          "execution_count": 17
        }
      ]
    },
    {
      "cell_type": "code",
      "source": [
        "len(sum_scores)"
      ],
      "metadata": {
        "colab": {
          "base_uri": "https://localhost:8080/"
        },
        "id": "HCkSsFOZ-Tyi",
        "outputId": "afc16ab3-eae2-46c4-9325-3068a877b11a"
      },
      "execution_count": 18,
      "outputs": [
        {
          "output_type": "execute_result",
          "data": {
            "text/plain": [
              "16"
            ]
          },
          "metadata": {},
          "execution_count": 18
        }
      ]
    },
    {
      "cell_type": "code",
      "source": [
        "ranked_scores = (-sum_scores).argsort()\n",
        "ranked_scores"
      ],
      "metadata": {
        "colab": {
          "base_uri": "https://localhost:8080/"
        },
        "id": "yQ2YowIz_qa6",
        "outputId": "eb212c7f-2dd0-461a-883f-cb800ec50462"
      },
      "execution_count": 19,
      "outputs": [
        {
          "output_type": "execute_result",
          "data": {
            "text/plain": [
              "array([14,  2,  7,  6,  4, 12,  0,  5, 11, 13,  3,  8, 15,  1,  9, 10])"
            ]
          },
          "metadata": {},
          "execution_count": 19
        }
      ]
    },
    {
      "cell_type": "code",
      "source": [
        "no_of_sentences = 4\n",
        "top_score_indices = sorted(ranked_scores[: no_of_sentences])\n",
        "top_score_indices"
      ],
      "metadata": {
        "colab": {
          "base_uri": "https://localhost:8080/"
        },
        "id": "0IhZPSurAAOK",
        "outputId": "913f641d-380a-4b9d-e504-dc6af9620c97"
      },
      "execution_count": 20,
      "outputs": [
        {
          "output_type": "execute_result",
          "data": {
            "text/plain": [
              "[2, 6, 7, 14]"
            ]
          },
          "metadata": {},
          "execution_count": 20
        }
      ]
    },
    {
      "cell_type": "code",
      "source": [
        "final_sentences = [original_sentences[i] for i in top_score_indices]\n",
        "summary = nlp(\" \".join(final_sentences))\n",
        "summary"
      ],
      "metadata": {
        "colab": {
          "base_uri": "https://localhost:8080/"
        },
        "id": "NFOA2QgWA2Uu",
        "outputId": "d222d95f-854f-4f03-eb95-c82ab4c8192d"
      },
      "execution_count": 21,
      "outputs": [
        {
          "output_type": "execute_result",
          "data": {
            "text/plain": [
              "Mahesh Babu made his acting debut as a child artist in 1979 with the film Needa, and his first leading role came in the 1999 movie Raja Kumarudu, which earned him the Nandi Award for Best Male Debut. Mahesh Babu's film Pokiri was a major breakthrough, becoming one of the highest-grossing Telugu films at the time and solidifying his status as a superstar. He is known for his action-packed roles as well as his ability to portray emotional characters, making him a favorite among a wide range of audiences. With a career spanning over two decades, Mahesh Babu continues to be a dominant force in the Telugu film industry, consistently delivering box-office hits and captivating performances."
            ]
          },
          "metadata": {},
          "execution_count": 21
        }
      ]
    },
    {
      "cell_type": "code",
      "source": [
        "len(summary)"
      ],
      "metadata": {
        "colab": {
          "base_uri": "https://localhost:8080/"
        },
        "id": "cFvXn0rmBjnG",
        "outputId": "e863a418-406f-4a34-c7a9-e8ed48c986a6"
      },
      "execution_count": 22,
      "outputs": [
        {
          "output_type": "execute_result",
          "data": {
            "text/plain": [
              "133"
            ]
          },
          "metadata": {},
          "execution_count": 22
        }
      ]
    },
    {
      "cell_type": "code",
      "source": [
        "!pip install rouge_score"
      ],
      "metadata": {
        "id": "nTDNgJTcE_hU",
        "colab": {
          "base_uri": "https://localhost:8080/"
        },
        "outputId": "50e75db5-a465-4cb4-94e5-af821027c2cf"
      },
      "execution_count": 25,
      "outputs": [
        {
          "output_type": "stream",
          "name": "stdout",
          "text": [
            "Collecting rouge_score\n",
            "  Downloading rouge_score-0.1.2.tar.gz (17 kB)\n",
            "  Preparing metadata (setup.py) ... \u001b[?25l\u001b[?25hdone\n",
            "Requirement already satisfied: absl-py in /usr/local/lib/python3.10/dist-packages (from rouge_score) (1.4.0)\n",
            "Requirement already satisfied: nltk in /usr/local/lib/python3.10/dist-packages (from rouge_score) (3.8.1)\n",
            "Requirement already satisfied: numpy in /usr/local/lib/python3.10/dist-packages (from rouge_score) (1.25.2)\n",
            "Requirement already satisfied: six>=1.14.0 in /usr/local/lib/python3.10/dist-packages (from rouge_score) (1.16.0)\n",
            "Requirement already satisfied: click in /usr/local/lib/python3.10/dist-packages (from nltk->rouge_score) (8.1.7)\n",
            "Requirement already satisfied: joblib in /usr/local/lib/python3.10/dist-packages (from nltk->rouge_score) (1.4.2)\n",
            "Requirement already satisfied: regex>=2021.8.3 in /usr/local/lib/python3.10/dist-packages (from nltk->rouge_score) (2024.5.15)\n",
            "Requirement already satisfied: tqdm in /usr/local/lib/python3.10/dist-packages (from nltk->rouge_score) (4.66.4)\n",
            "Building wheels for collected packages: rouge_score\n",
            "  Building wheel for rouge_score (setup.py) ... \u001b[?25l\u001b[?25hdone\n",
            "  Created wheel for rouge_score: filename=rouge_score-0.1.2-py3-none-any.whl size=24933 sha256=008a3563c609191282b0a99acadf9426d138936734a100e6f0f8eb948591df9d\n",
            "  Stored in directory: /root/.cache/pip/wheels/5f/dd/89/461065a73be61a532ff8599a28e9beef17985c9e9c31e541b4\n",
            "Successfully built rouge_score\n",
            "Installing collected packages: rouge_score\n",
            "Successfully installed rouge_score-0.1.2\n"
          ]
        }
      ]
    },
    {
      "cell_type": "code",
      "source": [
        "from rouge_score import rouge_scorer, scoring\n",
        "\n",
        "\n",
        "reference_summaries = [\n",
        "    \"Mahesh Babu, born on August 9, 1975, in Chennai, India, is one of the most prominent actors in the Telugu film industry. He made his acting debut as a child artist in 1979 with the film \\\"Needa,\\\" and his first leading role came in the 1999 movie \\\"Raja Kumarudu,\\\" which earned him the Nandi Award for Best Male Debut. Some of his most notable films include \\\"Murari\\\" (2001), \\\"Okkadu\\\" (2003), \\\"Pokiri\\\" (2006), \\\"Dookudu\\\" (2011), \\\"Srimanthudu\\\" (2015), and \\\"Bharat Ane Nenu\\\" (2018). In addition to his acting career, Mahesh Babu is also a successful producer and philanthropist, owning the production house G. Mahesh Babu Entertainment Pvt. Ltd. and being actively involved in various charitable activities.\", ]\n",
        "\n",
        "generated_summaries = [\n",
        "    \"Mahesh Babu made his acting debut as a child artist in 1979 with the film Needa, and his first leading role came in the 1999 movie Raja Kumarudu, which earned him the Nandi Award for Best Male Debut. Mahesh Babu's film Pokiri was a major breakthrough, becoming one of the highest-grossing Telugu films at the time and solidifying his status as a superstar. He is known for his action-packed roles as well as his ability to portray emotional characters, making him a favorite among a wide range of audiences. With a career spanning over two decades, Mahesh Babu continues to be a dominant force in the Telugu film industry, consistently delivering box-office hits and captivating performances.\",\n",
        "]\n",
        "\n",
        "# Initialize ROUGE scorer\n",
        "scorer = rouge_scorer.RougeScorer(['rouge1', 'rouge2', 'rougeL'], use_stemmer=True)\n",
        "aggregator = scoring.BootstrapAggregator()\n",
        "\n",
        "for ref, gen in zip(reference_summaries, generated_summaries):\n",
        "    scores = scorer.score(ref, gen)\n",
        "    aggregator.add_scores(scores)\n",
        "\n",
        "result = aggregator.aggregate()\n",
        "\n",
        "# Display results\n",
        "for key, value in result.items():\n",
        "    print(f\"{key}: Recall: {value.mid.recall:.4f}, Precision: {value.mid.precision:.4f}, F1-Score: {value.mid.fmeasure:.4f}\")\n"
      ],
      "metadata": {
        "id": "VV0TeYuQdVCp",
        "colab": {
          "base_uri": "https://localhost:8080/"
        },
        "outputId": "835b93b3-4411-4479-c184-695af234f4eb"
      },
      "execution_count": 38,
      "outputs": [
        {
          "output_type": "stream",
          "name": "stdout",
          "text": [
            "rouge1: Recall: 0.5614, Precision: 0.5333, F1-Score: 0.5470\n",
            "rouge2: Recall: 0.3894, Precision: 0.3697, F1-Score: 0.3793\n",
            "rougeL: Recall: 0.4211, Precision: 0.4000, F1-Score: 0.4103\n"
          ]
        }
      ]
    }
  ]
}