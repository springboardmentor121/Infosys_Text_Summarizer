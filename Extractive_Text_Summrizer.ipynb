{
  "nbformat": 4,
  "nbformat_minor": 0,
  "metadata": {
    "colab": {
      "provenance": [],
      "gpuType": "T4"
    },
    "kernelspec": {
      "name": "python3",
      "display_name": "Python 3"
    },
    "language_info": {
      "name": "python"
    },
    "accelerator": "GPU"
  },
  "cells": [
    {
      "cell_type": "code",
      "source": [
        "import re\n",
        "import spacy as sp\n",
        "import nltk"
      ],
      "metadata": {
        "id": "9WaQkBpezIC0"
      },
      "execution_count": null,
      "outputs": []
    },
    {
      "cell_type": "code",
      "source": [
        "text = ''' Mahesh Babu, born on August 9, 1975, in Chennai, India, is one of the most prominent actors in the Telugu film industry. He is the son of veteran actor Krishna Ghattamaneni and Indira Devi. Mahesh Babu made his acting debut as a child artist in 1979 with the film \"Needa,\" and his first leading role came in the 1999 movie \"Raja Kumarudu,\" which earned him the Nandi Award for Best Male Debut.\n",
        "\n",
        "Over the years, Mahesh Babu has established himself as a leading actor, known for his versatility and charm. Some of his most notable films include \"Murari\" (2001), \"Okkadu\" (2003), \"Pokiri\" (2006), \"Dookudu\" (2011), \"Srimanthudu\" (2015), and \"Bharat Ane Nenu\" (2018). His performance in these films has earned him numerous accolades, including several Nandi Awards, Filmfare Awards, and a SIIMA Award.\n",
        "\n",
        "Mahesh Babu's film \"Pokiri\" was a major breakthrough, becoming one of the highest-grossing Telugu films at the time and solidifying his status as a superstar. He is known for his action-packed roles as well as his ability to portray emotional characters, making him a favorite among a wide range of audiences.\n",
        "\n",
        "In addition to his acting career, Mahesh Babu is also a successful producer and philanthropist. He owns the production house G. Mahesh Babu Entertainment Pvt. Ltd. and has been actively involved in various charitable activities. Through his philanthropic foundation, Mahesh Babu has supported initiatives in education, health, and rural development.\n",
        "\n",
        "Mahesh Babu is married to former actress Namrata Shirodkar, and the couple has two children, Gautham Krishna and Sitara. Despite his busy schedule, he is known to maintain a balance between his professional and personal life.\n",
        "\n",
        "With a career spanning over two decades, Mahesh Babu continues to be a dominant force in the Telugu film industry, consistently delivering box-office hits and captivating performances. His dedication to his craft and his contributions to society make him a revered figure both on and off the screen.\n",
        "\n",
        "'''"
      ],
      "metadata": {
        "id": "wHbxZaZlxx-t"
      },
      "execution_count": null,
      "outputs": []
    },
    {
      "cell_type": "code",
      "source": [
        "print(\"The Length of text is:\",len(text))"
      ],
      "metadata": {
        "colab": {
          "base_uri": "https://localhost:8080/"
        },
        "id": "nZNyvCgozqkt",
        "outputId": "a12fa0b9-ec1c-4f7f-9732-ac45de940311"
      },
      "execution_count": null,
      "outputs": [
        {
          "output_type": "stream",
          "name": "stdout",
          "text": [
            "The Length of text is: 1990\n"
          ]
        }
      ]
    },
    {
      "cell_type": "code",
      "source": [
        "text = re.sub(r'\\([^)]*\\)', ' ', text)   # Removing the (inside matter)\n",
        "text = re.sub(r'\\[[^\\]]*\\]', ' ', text)  # Removing the [inside matter]\n",
        "text = re.sub(r' +', ' ', text)          # Removing Extra Spaces\n",
        "text = re.sub(r'\"', '', text)\n",
        "print(text)"
      ],
      "metadata": {
        "colab": {
          "base_uri": "https://localhost:8080/"
        },
        "id": "NcUtqhY1y5Us",
        "outputId": "868726fe-497a-4c73-ba02-6085b8c3d2d4"
      },
      "execution_count": null,
      "outputs": [
        {
          "output_type": "stream",
          "name": "stdout",
          "text": [
            " Mahesh Babu, born on August 9, 1975, in Chennai, India, is one of the most prominent actors in the Telugu film industry. He is the son of veteran actor Krishna Ghattamaneni and Indira Devi. Mahesh Babu made his acting debut as a child artist in 1979 with the film Needa, and his first leading role came in the 1999 movie Raja Kumarudu, which earned him the Nandi Award for Best Male Debut.\n",
            "\n",
            "Over the years, Mahesh Babu has established himself as a leading actor, known for his versatility and charm. Some of his most notable films include Murari , Okkadu , Pokiri , Dookudu , Srimanthudu , and Bharat Ane Nenu . His performance in these films has earned him numerous accolades, including several Nandi Awards, Filmfare Awards, and a SIIMA Award.\n",
            "\n",
            "Mahesh Babu's film Pokiri was a major breakthrough, becoming one of the highest-grossing Telugu films at the time and solidifying his status as a superstar. He is known for his action-packed roles as well as his ability to portray emotional characters, making him a favorite among a wide range of audiences.\n",
            "\n",
            "In addition to his acting career, Mahesh Babu is also a successful producer and philanthropist. He owns the production house G. Mahesh Babu Entertainment Pvt. Ltd. and has been actively involved in various charitable activities. Through his philanthropic foundation, Mahesh Babu has supported initiatives in education, health, and rural development.\n",
            "\n",
            "Mahesh Babu is married to former actress Namrata Shirodkar, and the couple has two children, Gautham Krishna and Sitara. Despite his busy schedule, he is known to maintain a balance between his professional and personal life.\n",
            "\n",
            "With a career spanning over two decades, Mahesh Babu continues to be a dominant force in the Telugu film industry, consistently delivering box-office hits and captivating performances. His dedication to his craft and his contributions to society make him a revered figure both on and off the screen.\n",
            "\n",
            "\n"
          ]
        }
      ]
    },
    {
      "cell_type": "code",
      "source": [
        "print(\"The Length of text is:\",len(text))"
      ],
      "metadata": {
        "colab": {
          "base_uri": "https://localhost:8080/"
        },
        "id": "yBYFvACgy_50",
        "outputId": "b6fe6279-e513-4127-cea9-8d51356ce1f5"
      },
      "execution_count": null,
      "outputs": [
        {
          "output_type": "stream",
          "name": "stdout",
          "text": [
            "The Length of text is: 1936\n"
          ]
        }
      ]
    },
    {
      "cell_type": "code",
      "source": [
        "nlp = sp.load(\"en_core_web_sm\")\n",
        "\n",
        "nltk.download('punkt')\n",
        "original_sentences = nltk.sent_tokenize(text)"
      ],
      "metadata": {
        "colab": {
          "base_uri": "https://localhost:8080/"
        },
        "id": "2mANNdGhzjBP",
        "outputId": "1fe7d0bf-4b48-4569-db8a-5e4209533f3d"
      },
      "execution_count": null,
      "outputs": [
        {
          "output_type": "stream",
          "name": "stderr",
          "text": [
            "[nltk_data] Downloading package punkt to /root/nltk_data...\n",
            "[nltk_data]   Package punkt is already up-to-date!\n"
          ]
        }
      ]
    },
    {
      "cell_type": "code",
      "source": [
        "original_sentences"
      ],
      "metadata": {
        "colab": {
          "base_uri": "https://localhost:8080/"
        },
        "id": "mxE0oTOB06wa",
        "outputId": "e7959e14-ee5b-4ab8-fb6e-93ca838a9a93"
      },
      "execution_count": null,
      "outputs": [
        {
          "output_type": "execute_result",
          "data": {
            "text/plain": [
              "[' Mahesh Babu, born on August 9, 1975, in Chennai, India, is one of the most prominent actors in the Telugu film industry.',\n",
              " 'He is the son of veteran actor Krishna Ghattamaneni and Indira Devi.',\n",
              " 'Mahesh Babu made his acting debut as a child artist in 1979 with the film Needa, and his first leading role came in the 1999 movie Raja Kumarudu, which earned him the Nandi Award for Best Male Debut.',\n",
              " 'Over the years, Mahesh Babu has established himself as a leading actor, known for his versatility and charm.',\n",
              " 'Some of his most notable films include Murari , Okkadu , Pokiri , Dookudu , Srimanthudu , and Bharat Ane Nenu .',\n",
              " 'His performance in these films has earned him numerous accolades, including several Nandi Awards, Filmfare Awards, and a SIIMA Award.',\n",
              " \"Mahesh Babu's film Pokiri was a major breakthrough, becoming one of the highest-grossing Telugu films at the time and solidifying his status as a superstar.\",\n",
              " 'He is known for his action-packed roles as well as his ability to portray emotional characters, making him a favorite among a wide range of audiences.',\n",
              " 'In addition to his acting career, Mahesh Babu is also a successful producer and philanthropist.',\n",
              " 'He owns the production house G. Mahesh Babu Entertainment Pvt.',\n",
              " 'Ltd. and has been actively involved in various charitable activities.',\n",
              " 'Through his philanthropic foundation, Mahesh Babu has supported initiatives in education, health, and rural development.',\n",
              " 'Mahesh Babu is married to former actress Namrata Shirodkar, and the couple has two children, Gautham Krishna and Sitara.',\n",
              " 'Despite his busy schedule, he is known to maintain a balance between his professional and personal life.',\n",
              " 'With a career spanning over two decades, Mahesh Babu continues to be a dominant force in the Telugu film industry, consistently delivering box-office hits and captivating performances.',\n",
              " 'His dedication to his craft and his contributions to society make him a revered figure both on and off the screen.']"
            ]
          },
          "metadata": {},
          "execution_count": 43
        }
      ]
    },
    {
      "cell_type": "markdown",
      "source": [
        "#Pre-Processing"
      ],
      "metadata": {
        "id": "GbWv2lkP5TbE"
      }
    },
    {
      "cell_type": "code",
      "source": [
        "def preprocess(sentences):\n",
        "\n",
        "  preprocessed_sentences = []\n",
        "\n",
        "  for sentence in sentences:\n",
        "    doc = nlp(sentence)\n",
        "    extracted_words = [token.lemma_ for token in doc if not token.is_stop and token.is_alpha]\n",
        "    preprocessed_sentences.append(\" \".join(extracted_words))\n",
        "  return preprocessed_sentences"
      ],
      "metadata": {
        "id": "lmcv-7gp1UGL"
      },
      "execution_count": null,
      "outputs": []
    },
    {
      "cell_type": "code",
      "source": [
        "preprocessed_sentences = preprocess(original_sentences)\n",
        "preprocessed_sentences"
      ],
      "metadata": {
        "colab": {
          "base_uri": "https://localhost:8080/"
        },
        "id": "A9dFGH_e2fJx",
        "outputId": "3fc2dd63-aeaf-4172-c3bf-b758b9c36554"
      },
      "execution_count": null,
      "outputs": [
        {
          "output_type": "execute_result",
          "data": {
            "text/plain": [
              "['Mahesh Babu bear August Chennai India prominent actor Telugu film industry',\n",
              " 'son veteran actor Krishna Ghattamaneni Indira Devi',\n",
              " 'Mahesh Babu acting debut child artist film Needa leading role come movie Raja Kumarudu earn Nandi Award Best Male Debut',\n",
              " 'year Mahesh Babu establish lead actor know versatility charm',\n",
              " 'notable film include Murari Okkadu Pokiri Dookudu Srimanthudu Bharat Ane Nenu',\n",
              " 'performance film earn numerous accolade include Nandi Awards Filmfare Awards SIIMA Award',\n",
              " 'Mahesh Babu film Pokiri major breakthrough highest gross telugu film time solidify status superstar',\n",
              " 'know action pack role ability portray emotional character make favorite wide range audience',\n",
              " 'addition act career Mahesh Babu successful producer philanthropist',\n",
              " 'own production house Mahesh Babu Entertainment Pvt',\n",
              " 'actively involve charitable activity',\n",
              " 'philanthropic foundation Mahesh Babu support initiative education health rural development',\n",
              " 'Mahesh Babu married actress Namrata Shirodkar couple child Gautham Krishna Sitara',\n",
              " 'despite busy schedule know maintain balance professional personal life',\n",
              " 'career span decade Mahesh Babu continue dominant force Telugu film industry consistently deliver box office hit captivate performance',\n",
              " 'dedication craft contribution society revere figure screen']"
            ]
          },
          "metadata": {},
          "execution_count": 47
        }
      ]
    },
    {
      "cell_type": "markdown",
      "source": [
        "#TF-IDF (Term Frequency-Inverse Document Frequency)\n",
        "\n",
        "\n",
        "\n",
        "\n"
      ],
      "metadata": {
        "id": "gMkFbySr5Pg5"
      }
    },
    {
      "cell_type": "code",
      "source": [
        "from sklearn.feature_extraction.text import TfidfVectorizer"
      ],
      "metadata": {
        "id": "UV6J8i552uHA"
      },
      "execution_count": null,
      "outputs": []
    },
    {
      "cell_type": "code",
      "source": [
        "vectorizer = TfidfVectorizer()\n",
        "matrix  = vectorizer.fit_transform(preprocessed_sentences)"
      ],
      "metadata": {
        "id": "CFMT-DPT4Rn-"
      },
      "execution_count": null,
      "outputs": []
    },
    {
      "cell_type": "code",
      "source": [
        "matrix   # we can see that 16x130: 16 rows and 130 columns in the matrix"
      ],
      "metadata": {
        "colab": {
          "base_uri": "https://localhost:8080/"
        },
        "id": "b86LkRdT4Ue1",
        "outputId": "ed715b63-4a1d-40d5-813c-8ebca22447dd"
      },
      "execution_count": null,
      "outputs": [
        {
          "output_type": "execute_result",
          "data": {
            "text/plain": [
              "<16x130 sparse matrix of type '<class 'numpy.float64'>'\n",
              "\twith 168 stored elements in Compressed Sparse Row format>"
            ]
          },
          "metadata": {},
          "execution_count": 54
        }
      ]
    },
    {
      "cell_type": "code",
      "source": [
        "print(matrix[0].toarray())"
      ],
      "metadata": {
        "colab": {
          "base_uri": "https://localhost:8080/"
        },
        "id": "Jf31N-et-jxP",
        "outputId": "39f987a7-6ecb-45e2-fabb-085b1cc394f2"
      },
      "execution_count": null,
      "outputs": [
        {
          "output_type": "stream",
          "name": "stdout",
          "text": [
            "[[0.         0.         0.         0.         0.         0.\n",
            "  0.         0.27885138 0.         0.         0.         0.\n",
            "  0.         0.35784258 0.         0.         0.17443071 0.\n",
            "  0.35784258 0.         0.         0.         0.         0.\n",
            "  0.         0.         0.         0.         0.         0.35784258\n",
            "  0.         0.         0.         0.         0.         0.\n",
            "  0.         0.         0.         0.         0.         0.\n",
            "  0.         0.         0.         0.         0.         0.\n",
            "  0.         0.         0.         0.         0.         0.21507746\n",
            "  0.         0.         0.         0.         0.         0.\n",
            "  0.         0.         0.         0.         0.         0.35784258\n",
            "  0.         0.31163569 0.         0.         0.         0.\n",
            "  0.         0.         0.         0.         0.17443071 0.\n",
            "  0.         0.         0.         0.         0.         0.\n",
            "  0.         0.         0.         0.         0.         0.\n",
            "  0.         0.         0.         0.         0.         0.\n",
            "  0.         0.         0.         0.         0.         0.\n",
            "  0.         0.35784258 0.         0.         0.         0.\n",
            "  0.         0.         0.         0.         0.         0.\n",
            "  0.         0.         0.         0.         0.         0.\n",
            "  0.         0.         0.         0.         0.27885138 0.\n",
            "  0.         0.         0.         0.        ]]\n"
          ]
        }
      ]
    },
    {
      "cell_type": "code",
      "source": [
        "len(matrix.toarray()[0])"
      ],
      "metadata": {
        "colab": {
          "base_uri": "https://localhost:8080/"
        },
        "id": "xPalL3e__K2-",
        "outputId": "91e453eb-9829-4201-ffd5-9fd319395458"
      },
      "execution_count": null,
      "outputs": [
        {
          "output_type": "execute_result",
          "data": {
            "text/plain": [
              "130"
            ]
          },
          "metadata": {},
          "execution_count": 76
        }
      ]
    },
    {
      "cell_type": "code",
      "source": [
        "len(vectorizer.vocabulary_)"
      ],
      "metadata": {
        "colab": {
          "base_uri": "https://localhost:8080/"
        },
        "id": "ZNPQ0OoJ_uJc",
        "outputId": "9a61c18d-43fa-494c-a072-012ab6c7683b"
      },
      "execution_count": null,
      "outputs": [
        {
          "output_type": "execute_result",
          "data": {
            "text/plain": [
              "130"
            ]
          },
          "metadata": {},
          "execution_count": 78
        }
      ]
    },
    {
      "cell_type": "code",
      "source": [
        "print(matrix[15])"
      ],
      "metadata": {
        "colab": {
          "base_uri": "https://localhost:8080/"
        },
        "id": "hW5VNNaU4V0T",
        "outputId": "0a5775b3-17de-4af8-df0a-024c33273c69"
      },
      "execution_count": null,
      "outputs": [
        {
          "output_type": "stream",
          "name": "stdout",
          "text": [
            "  (0, 111)\t0.37796447300922725\n",
            "  (0, 52)\t0.37796447300922725\n",
            "  (0, 107)\t0.37796447300922725\n",
            "  (0, 115)\t0.37796447300922725\n",
            "  (0, 34)\t0.37796447300922725\n",
            "  (0, 36)\t0.37796447300922725\n",
            "  (0, 39)\t0.37796447300922725\n"
          ]
        }
      ]
    },
    {
      "cell_type": "code",
      "source": [
        "sum_scores = matrix.toarray().sum(axis = 1)\n",
        "sum_scores"
      ],
      "metadata": {
        "colab": {
          "base_uri": "https://localhost:8080/"
        },
        "id": "RMTNgaj68wdT",
        "outputId": "c0deedd3-fcb6-44fb-df49-3b78ea49877f"
      },
      "execution_count": null,
      "outputs": [
        {
          "output_type": "execute_result",
          "data": {
            "text/plain": [
              "array([3.22249022, 2.63577527, 4.15430168, 2.91265222, 3.29079686,\n",
              "       3.14253764, 3.52055485, 3.59738003, 2.74190166, 2.55346622,\n",
              "       2.        , 3.08286353, 3.24031296, 2.9924422 , 4.16204629,\n",
              "       2.64575131])"
            ]
          },
          "metadata": {},
          "execution_count": 63
        }
      ]
    },
    {
      "cell_type": "code",
      "source": [
        "len(sum_scores)"
      ],
      "metadata": {
        "colab": {
          "base_uri": "https://localhost:8080/"
        },
        "id": "HCkSsFOZ-Tyi",
        "outputId": "e2a32cdd-47a1-4f67-9627-af5e085bd0ca"
      },
      "execution_count": null,
      "outputs": [
        {
          "output_type": "execute_result",
          "data": {
            "text/plain": [
              "16"
            ]
          },
          "metadata": {},
          "execution_count": 68
        }
      ]
    },
    {
      "cell_type": "code",
      "source": [
        "ranked_scores = (-sum_scores).argsort()\n",
        "ranked_scores"
      ],
      "metadata": {
        "colab": {
          "base_uri": "https://localhost:8080/"
        },
        "id": "yQ2YowIz_qa6",
        "outputId": "cdbfb58a-33c2-4bc8-9ec7-ceb8e9c64e78"
      },
      "execution_count": null,
      "outputs": [
        {
          "output_type": "execute_result",
          "data": {
            "text/plain": [
              "array([14,  2,  7,  6,  4, 12,  0,  5, 11, 13,  3,  8, 15,  1,  9, 10])"
            ]
          },
          "metadata": {},
          "execution_count": 80
        }
      ]
    },
    {
      "cell_type": "code",
      "source": [
        "no_of_sentences = 4\n",
        "top_score_indices = sorted(ranked_scores[: no_of_sentences])\n",
        "top_score_indices"
      ],
      "metadata": {
        "colab": {
          "base_uri": "https://localhost:8080/"
        },
        "id": "0IhZPSurAAOK",
        "outputId": "566e7222-aa59-4c93-e3c5-b58217568f9c"
      },
      "execution_count": null,
      "outputs": [
        {
          "output_type": "execute_result",
          "data": {
            "text/plain": [
              "[2, 6, 7, 14]"
            ]
          },
          "metadata": {},
          "execution_count": 81
        }
      ]
    },
    {
      "cell_type": "code",
      "source": [
        "final_sentences = [original_sentences[i] for i in top_score_indices]\n",
        "summary = nlp(\" \".join(final_sentences))\n",
        "summary"
      ],
      "metadata": {
        "colab": {
          "base_uri": "https://localhost:8080/"
        },
        "id": "NFOA2QgWA2Uu",
        "outputId": "f46280bf-d17e-42b2-d77c-be99e742f7bd"
      },
      "execution_count": null,
      "outputs": [
        {
          "output_type": "execute_result",
          "data": {
            "text/plain": [
              "Mahesh Babu made his acting debut as a child artist in 1979 with the film Needa, and his first leading role came in the 1999 movie Raja Kumarudu, which earned him the Nandi Award for Best Male Debut. Mahesh Babu's film Pokiri was a major breakthrough, becoming one of the highest-grossing Telugu films at the time and solidifying his status as a superstar. He is known for his action-packed roles as well as his ability to portray emotional characters, making him a favorite among a wide range of audiences. With a career spanning over two decades, Mahesh Babu continues to be a dominant force in the Telugu film industry, consistently delivering box-office hits and captivating performances."
            ]
          },
          "metadata": {},
          "execution_count": 82
        }
      ]
    },
    {
      "cell_type": "code",
      "source": [
        "len(summary)"
      ],
      "metadata": {
        "colab": {
          "base_uri": "https://localhost:8080/"
        },
        "id": "cFvXn0rmBjnG",
        "outputId": "a45a0525-903d-43b3-b421-b3bf1c283615"
      },
      "execution_count": null,
      "outputs": [
        {
          "output_type": "execute_result",
          "data": {
            "text/plain": [
              "133"
            ]
          },
          "metadata": {},
          "execution_count": 83
        }
      ]
    },
    {
      "cell_type": "code",
      "source": [
        "'''After this we have to develop interface for this model in the STREAMLIT..'''"
      ],
      "metadata": {
        "colab": {
          "base_uri": "https://localhost:8080/",
          "height": 35
        },
        "id": "1MbMCEE0Bk61",
        "outputId": "df8dc966-833d-4f70-bc41-5dae8cb97702"
      },
      "execution_count": null,
      "outputs": [
        {
          "output_type": "execute_result",
          "data": {
            "text/plain": [
              "'After this we have to develop interface for this model in the STREAMLIT..'"
            ],
            "application/vnd.google.colaboratory.intrinsic+json": {
              "type": "string"
            }
          },
          "metadata": {},
          "execution_count": 84
        }
      ]
    },
    {
      "cell_type": "code",
      "source": [],
      "metadata": {
        "id": "nTDNgJTcE_hU"
      },
      "execution_count": null,
      "outputs": []
    },
    {
      "cell_type": "code",
      "source": [],
      "metadata": {
        "id": "VV0TeYuQdVCp"
      },
      "execution_count": null,
      "outputs": []
    },
    {
      "cell_type": "code",
      "source": [],
      "metadata": {
        "id": "PflDB3TKdVee"
      },
      "execution_count": null,
      "outputs": []
    },
    {
      "cell_type": "code",
      "source": [],
      "metadata": {
        "id": "OYwIbqWmdV6N"
      },
      "execution_count": null,
      "outputs": []
    },
    {
      "cell_type": "code",
      "source": [
        "import nltk\n",
        "from nltk.tokenize import sent_tokenize, word_tokenize\n",
        "from nltk.corpus import stopwords\n",
        "from nltk.cluster.util import cosine_distance\n",
        "import numpy as np\n",
        "import networkx as nx\n",
        "\n",
        "#nltk.download('punkt')\n",
        "#nltk.download('stopwords')\n",
        "\n",
        "def preprocess_text(text):\n",
        "    sentences = sent_tokenize(text)\n",
        "    cleaned_sentences = []\n",
        "    for sentence in sentences:\n",
        "        words = word_tokenize(sentence)\n",
        "        cleaned_words = [word.lower() for word in words if word.isalnum()]\n",
        "        cleaned_sentences.append(cleaned_words)\n",
        "    return cleaned_sentences\n",
        "\n",
        "def create_similarity_matrix(sentences):\n",
        "    similarity_matrix = np.zeros((len(sentences), len(sentences)))\n",
        "    for i in range(len(sentences)):\n",
        "        for j in range(len(sentences)):\n",
        "            if i != j:\n",
        "                similarity_matrix[i][j] = sentence_similarity(sentences[i], sentences[j])\n",
        "    return similarity_matrix\n",
        "\n",
        "def sentence_similarity(sentence1, sentence2):\n",
        "    stopwords_list = stopwords.words('english')\n",
        "    vector1 = [word for word in sentence1 if word not in stopwords_list]\n",
        "    vector2 = [word for word in sentence2 if word not in stopwords_list]\n",
        "    all_words = list(set(vector1 + vector2))\n",
        "    vector1 = [1 if word in vector1 else 0 for word in all_words]\n",
        "    vector2 = [1 if word in vector2 else 0 for word in all_words]\n",
        "    return 1 - cosine_distance(vector1, vector2)\n",
        "\n",
        "def generate_summary(text, num_sentences=3):\n",
        "    sentences = preprocess_text(text)\n",
        "    similarity_matrix = create_similarity_matrix(sentences)\n",
        "    sentence_graph = nx.from_numpy_array(similarity_matrix)\n",
        "    scores = nx.pagerank(sentence_graph)\n",
        "    ranked_sentences = sorted(((scores[i], ' '.join(s)) for i, s in enumerate(sentences)), reverse=True)\n",
        "    summary = ' '.join([ranked_sentence[1] for ranked_sentence in ranked_sentences[:num_sentences]])\n",
        "    return summary\n",
        "\n",
        "# Example usage:\n",
        "text = \"\"\"\n",
        "Mahesh Babu, born on August 9, 1975, in Chennai, India, is one of the most prominent actors in the Telugu film industry. He is the son of veteran actor Krishna Ghattamaneni and Indira Devi. Mahesh Babu made his acting debut as a child artist in 1979 with the film \"Needa,\" and his first leading role came in the 1999 movie \"Raja Kumarudu,\" which earned him the Nandi Award for Best Male Debut.\n",
        "\n",
        "Over the years, Mahesh Babu has established himself as a leading actor, known for his versatility and charm. Some of his most notable films include \"Murari\" (2001), \"Okkadu\" (2003), \"Pokiri\" (2006), \"Dookudu\" (2011), \"Srimanthudu\" (2015), and \"Bharat Ane Nenu\" (2018). His performance in these films has earned him numerous accolades, including several Nandi Awards, Filmfare Awards, and a SIIMA Award.\n",
        "\n",
        "Mahesh Babu's film \"Pokiri\" was a major breakthrough, becoming one of the highest-grossing Telugu films at the time and solidifying his status as a superstar. He is known for his action-packed roles as well as his ability to portray emotional characters, making him a favorite among a wide range of audiences.\n",
        "\n",
        "In addition to his acting career, Mahesh Babu is also a successful producer and philanthropist. He owns the production house G. Mahesh Babu Entertainment Pvt. Ltd. and has been actively involved in various charitable activities. Through his philanthropic foundation, Mahesh Babu has supported initiatives in education, health, and rural development.\n",
        "\n",
        "Mahesh Babu is married to former actress Namrata Shirodkar, and the couple has two children, Gautham Krishna and Sitara. Despite his busy schedule, he is known to maintain a balance between his professional and personal life.\n",
        "\n",
        "With a career spanning over two decades, Mahesh Babu continues to be a dominant force in the Telugu film industry, consistently delivering box-office hits and captivating performances. His dedication to his craft and his contributions to society make him a revered figure both on and off the screen.\n",
        "\n",
        "\"\"\"\n",
        "summary = generate_summary(text, num_sentences=2)\n",
        "print(summary)\n"
      ],
      "metadata": {
        "colab": {
          "base_uri": "https://localhost:8080/"
        },
        "id": "Rcb2S2F_PIs0",
        "outputId": "80d29122-824f-4586-cf0e-83a0ebd0c23e"
      },
      "execution_count": null,
      "outputs": [
        {
          "output_type": "stream",
          "name": "stdout",
          "text": [
            "over the years mahesh babu has established himself as a leading actor known for his versatility and charm mahesh babu film pokiri was a major breakthrough becoming one of the telugu films at the time and solidifying his status as a superstar\n"
          ]
        }
      ]
    },
    {
      "cell_type": "code",
      "source": [],
      "metadata": {
        "id": "ktBlpHZ7RhXf"
      },
      "execution_count": null,
      "outputs": []
    }
  ]
}